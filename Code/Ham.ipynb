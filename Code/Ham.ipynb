{
 "cells": [
  {
   "cell_type": "code",
   "execution_count": 4,
   "id": "804284f6-bd75-4056-ab32-9483be00e590",
   "metadata": {},
   "outputs": [
    {
     "name": "stdout",
     "output_type": "stream",
     "text": [
      "+++++++++++++++\n",
      "|             |\n",
      "|             |\n",
      "|             |\n",
      "|             |\n",
      "|             |\n",
      "|             |\n",
      "|             |\n",
      "|             |\n",
      "|             |\n",
      "|             |\n",
      "|             |\n",
      "+++++++++++++++\n"
     ]
    }
   ],
   "source": [
    "#Ví dụ 1: viết hàm vẽ HCN\n",
    "def plot_rectangle(a,b):\n",
    "    print(a*'+')\n",
    "    for i in range(b-2):\n",
    "        print('|' + (a-2)*' ' + '|')\n",
    "    print(a*'+')\n",
    "\n",
    "plot_rectangle(15,13)"
   ]
  },
  {
   "cell_type": "code",
   "execution_count": 14,
   "id": "5da35563-6a7e-4911-b9dd-fc62e602098f",
   "metadata": {
    "tags": []
   },
   "outputs": [],
   "source": [
    "def common_characters(s,t):\n",
    "    common_chars = ''\n",
    "    if len(s) > len(t):\n",
    "        s,t = t,s\n",
    "        print(s)\n",
    "        print(t)\n",
    "    for c in s:\n",
    "        if (c in t) and (c not in common_chars):common_chars += c\n",
    "    return common_chars"
   ]
  },
  {
   "cell_type": "code",
   "execution_count": 15,
   "id": "1be8bc0d-92f7-4369-b0c5-17cef5a36c5c",
   "metadata": {
    "tags": []
   },
   "outputs": [
    {
     "name": "stdout",
     "output_type": "stream",
     "text": [
      "hngo\n",
      "hoohgfgha\n"
     ]
    },
    {
     "data": {
      "text/plain": [
       "'hgo'"
      ]
     },
     "execution_count": 15,
     "metadata": {},
     "output_type": "execute_result"
    }
   ],
   "source": [
    "common_characters('hoohgfgha','hngo')"
   ]
  },
  {
   "cell_type": "code",
   "execution_count": 16,
   "id": "49d485a4-a5e7-410e-a92c-159a0d6e0b7b",
   "metadata": {
    "tags": []
   },
   "outputs": [],
   "source": [
    "#Vi du 3: ham tra ve nhieu gia tri\n",
    "def summary(data):\n",
    "    from math import sqrt\n",
    "    n = len(data)\n",
    "    tong = 0\n",
    "    tong_binh_phuong = 0\n",
    "    for number in data:\n",
    "        tong += number\n",
    "        tong_binh_phuong += number**2\n",
    "    trung_binh = tong/n\n",
    "    do_lech = sqrt(tong_binh_phuong/n - trung_binh**2)\n",
    "    return trung_binh, do_lech"
   ]
  },
  {
   "cell_type": "code",
   "execution_count": 19,
   "id": "45d9fe32-2593-4545-876e-69c35730f326",
   "metadata": {
    "tags": []
   },
   "outputs": [],
   "source": [
    "#Vi du 4: Viet ham hien thi k ky tu dau tien trong mot chuoi, voi k0 la gia tri mac dinh\n",
    "def display(message,k=7):\n",
    "    print(message[:k])"
   ]
  },
  {
   "cell_type": "code",
   "execution_count": 20,
   "id": "d2f98573-6e8e-4350-a1da-ec92ff48cb3c",
   "metadata": {
    "tags": []
   },
   "outputs": [
    {
     "name": "stdout",
     "output_type": "stream",
     "text": [
      "default value\n"
     ]
    }
   ],
   "source": [
    "s = 'default value of an argument'\n",
    "display(s,13)"
   ]
  },
  {
   "cell_type": "code",
   "execution_count": 1,
   "id": "3c91a7cb-6f3a-4995-83a4-524da37d0d68",
   "metadata": {},
   "outputs": [],
   "source": [
    "#Vi du 5: Viet ham co tham so co do dai thay doi\n",
    "def print_tail(first, second, *tail):\n",
    "    print(tail)"
   ]
  },
  {
   "cell_type": "code",
   "execution_count": 2,
   "id": "6077fcdb-d40d-4240-93d9-8bd6fe8f44e6",
   "metadata": {
    "tags": []
   },
   "outputs": [
    {
     "name": "stdout",
     "output_type": "stream",
     "text": [
      "(3, 4, 5)\n"
     ]
    }
   ],
   "source": [
    "print_tail(1,2,3,4,5)"
   ]
  },
  {
   "cell_type": "code",
   "execution_count": 3,
   "id": "7e443808-e123-431b-bc28-3e87a9489095",
   "metadata": {
    "tags": []
   },
   "outputs": [],
   "source": [
    "#Bieu thuc LAMBDA \n",
    "f = lambda a, b: a+b"
   ]
  },
  {
   "cell_type": "code",
   "execution_count": 4,
   "id": "9e6eb23f-fdad-4ce6-be67-dcffd55df429",
   "metadata": {
    "tags": []
   },
   "outputs": [
    {
     "data": {
      "text/plain": [
       "5"
      ]
     },
     "execution_count": 4,
     "metadata": {},
     "output_type": "execute_result"
    }
   ],
   "source": [
    "f(2,3)\n"
   ]
  },
  {
   "cell_type": "code",
   "execution_count": null,
   "id": "a100182a-1795-4b1b-9e15-d5bc03b10e97",
   "metadata": {
    "tags": []
   },
   "outputs": [],
   "source": [
    "def f(n):\n",
    "    if n == 0:\n",
    "        return 0  \n",
    "    elif n == 1:\n",
    "        return 1  \n",
    "    else:\n",
    "        return f(n - 1) + f(n - 2)  \n",
    "    \n",
    "n = 1\n",
    "print(f\"Số Fibonaci thứ {n} là: {f(n)}\")\n"
   ]
  },
  {
   "cell_type": "code",
   "execution_count": null,
   "id": "480612f4-9735-419b-b634-bca2c5fed1b7",
   "metadata": {},
   "outputs": [],
   "source": []
  }
 ],
 "metadata": {
  "kernelspec": {
   "display_name": "Python 3 (ipykernel)",
   "language": "python",
   "name": "python3"
  },
  "language_info": {
   "codemirror_mode": {
    "name": "ipython",
    "version": 3
   },
   "file_extension": ".py",
   "mimetype": "text/x-python",
   "name": "python",
   "nbconvert_exporter": "python",
   "pygments_lexer": "ipython3",
   "version": "3.11.5"
  }
 },
 "nbformat": 4,
 "nbformat_minor": 5
}
