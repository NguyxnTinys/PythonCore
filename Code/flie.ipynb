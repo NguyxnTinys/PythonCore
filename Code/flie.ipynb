{
 "cells": [
  {
   "cell_type": "code",
   "execution_count": 8,
   "id": "e5bee7b2-1946-4e4b-a713-172aee1dc2af",
   "metadata": {
    "tags": []
   },
   "outputs": [
    {
     "name": "stdout",
     "output_type": "stream",
     "text": [
      "Dấu thời gian,Bạn đang học khoa nào?,Khóa, Giới tính,Chiều cao ,Cân nặng (kg) ,\"1. Trong một hoc kỳ, bạn có thường xuyên cảm thấy lo lắng, bồn chồn vì áp lực học hành và thi cử không?\",\"2. Trong một học kỳ, bạn có thường xuyên khó chịu hoặc cáu kỉnh về việc học tập không ? \",\"3. Trong một học kỳ, bạn có thường xuyên cảm thấy buồn về thành tích và điểm số của bạn không?\",\"4. Trong một học kỳ,  bạn có thường xuyên cảm thấy không hứng thú với việc học không?\",5. Bạn có thường xuyên cảm thấy chán ăn hoặc ăn quá nhiều không?,6. Bạn có thường xuyên cảm thấy mất ngủ hoặc ngủ quá nhiều hay không?,7. Bạn có thường xuyên thường xuyên bị thay đổi cân nặng bất thường không (giảm cân khi không cần ăn kiêng và tăng cân khi không ăn quá nhiều),8. Bạn có thường xuyên cảm thấy căng thẳng trong cuộc sống không?,\"9. Bạn có thường xuyên cảm thấy thiếu kiên nhẫn, mất tập trung không?\",10. Bạn có cảm giác bản thân đang hoạt động quá mức hoặc khó kiểm soát hành không?,11. Bạn có thường xuyên cảm thấy trống rỗng hoặc mất hy vọng không?,12. Bạn có thường xuyên có ý định tự làm hại bản thân hoặc tự tử không?,sstt\n",
      "\n"
     ]
    }
   ],
   "source": [
    "with open('khaosat.csv', 'r', encoding='utf-8', errors='ignore') as f:\n",
    "    first_line = f.readline()\n",
    "    print(first_line)\n"
   ]
  },
  {
   "cell_type": "code",
   "execution_count": 9,
   "id": "d0948739-7513-4af5-8705-a8305c0e7c58",
   "metadata": {
    "tags": []
   },
   "outputs": [],
   "source": [
    "#Phuong phap strartwith"
   ]
  },
  {
   "cell_type": "code",
   "execution_count": 12,
   "id": "53eab8d0-d908-406d-8513-dbf5d582a226",
   "metadata": {
    "tags": []
   },
   "outputs": [],
   "source": [
    "f= open('khaosat.csv')"
   ]
  },
  {
   "cell_type": "code",
   "execution_count": 14,
   "id": "05b20868-eb55-45fd-bebd-678b47262c60",
   "metadata": {
    "tags": []
   },
   "outputs": [],
   "source": [
    "#mo file voi cau lenh with"
   ]
  },
  {
   "cell_type": "code",
   "execution_count": 16,
   "id": "8ed46c3c-4e06-43c7-bc18-71c27b1f0e83",
   "metadata": {
    "tags": []
   },
   "outputs": [
    {
     "name": "stdout",
     "output_type": "stream",
     "text": [
      "['YearsExperience,Salary\\n', '1.1,39343.00\\n', '1.3,46205.00\\n', '1.5,37731.00\\n', '2.0,43525.00\\n', '2.2,39891.00\\n', '2.9,56642.00\\n', '3.0,60150.00\\n', '3.2,54445.00\\n', '3.2,64445.00\\n', '3.7,57189.00\\n', '3.9,63218.00\\n', '4.0,55794.00\\n', '4.0,56957.00\\n', '4.1,57081.00\\n', '4.5,61111.00\\n', '4.9,67938.00\\n', '5.1,66029.00\\n', '5.3,83088.00\\n', '5.9,81363.00\\n', '6.0,93940.00\\n', '6.8,91738.00\\n', '7.1,98273.00\\n', '7.9,101302.00\\n', '8.2,113812.00\\n', '8.7,109431.00\\n', '9.0,105582.00\\n', '9.5,116969.00\\n', '9.6,112635.00\\n', '10.3,122391.00\\n', '10.5,121872.00\\n']\n"
     ]
    }
   ],
   "source": [
    "with open('salary.txt') as f:\n",
    "   \n",
    "for i in f:\n",
    "    if i.strartwith('From'): print(f.readlines())"
   ]
  },
  {
   "cell_type": "code",
   "execution_count": 20,
   "id": "bd2aabfd-d520-4737-8d2f-7c964e8b6b63",
   "metadata": {
    "tags": []
   },
   "outputs": [],
   "source": [
    "#ghi file\n",
    "fw = open('output.txt','w')\n",
    "linel1 = 'ho va ten sinh vien: Nguyen Van A\\n'\n",
    "linel2 = 'diem tong ket: 3.44'\n",
    "fw.write(linel1)\n",
    "fw.write(linel2)\n",
    "fw.close()"
   ]
  },
  {
   "cell_type": "code",
   "execution_count": 21,
   "id": "92510a1d-bc96-42ab-9b80-67e89fb4bc37",
   "metadata": {
    "tags": []
   },
   "outputs": [
    {
     "name": "stdout",
     "output_type": "stream",
     "text": [
      "ho va ten sinh vien: Nguyen Van A\n",
      "diem tong ket: 3.44\n"
     ]
    }
   ],
   "source": [
    "with open('output.txt') as fr:\n",
    "    print(fr.read())"
   ]
  },
  {
   "cell_type": "code",
   "execution_count": 37,
   "id": "d1cc39f0-e6c3-4fa1-be0a-e3d63c767fd0",
   "metadata": {
    "tags": []
   },
   "outputs": [
    {
     "name": "stdout",
     "output_type": "stream",
     "text": [
      "From stephen.marquard@uct.ac.za Sat Jan  5 09:14:16 2008\n",
      "\n",
      "From: stephen.marquard@uct.ac.za\n",
      "\n",
      "From louis@media.berkeley.edu Fri Jan  4 18:10:48 2008\n",
      "\n",
      "From: louis@media.berkeley.edu\n",
      "\n",
      "From zqian@umich.edu Fri Jan  4 16:10:39 2008\n",
      "\n",
      "From: zqian@umich.edu\n",
      "\n",
      "From rjlowe@iupui.edu Fri Jan  4 15:46:24 2008\n",
      "\n",
      "From: rjlowe@iupui.edu\n",
      "\n",
      "From zqian@umich.edu Fri Jan  4 15:03:18 2008\n",
      "\n",
      "From: zqian@umich.edu\n",
      "\n",
      "From rjlowe@iupui.edu Fri Jan  4 14:50:18 2008\n",
      "\n",
      "From: rjlowe@iupui.edu\n",
      "\n",
      "From cwen@iupui.edu Fri Jan  4 11:37:30 2008\n",
      "\n",
      "From: cwen@iupui.edu\n",
      "\n",
      "From cwen@iupui.edu Fri Jan  4 11:35:08 2008\n",
      "\n",
      "From: cwen@iupui.edu\n",
      "\n",
      "From gsilver@umich.edu Fri Jan  4 11:12:37 2008\n",
      "\n",
      "From: gsilver@umich.edu\n",
      "\n",
      "From gsilver@umich.edu Fri Jan  4 11:11:52 2008\n",
      "\n",
      "From: gsilver@umich.edu\n",
      "\n",
      "From zqian@umich.edu Fri Jan  4 11:11:03 2008\n",
      "\n",
      "From: zqian@umich.edu\n",
      "\n",
      "From gsilver@umich.edu Fri Jan  4 11:10:22 2008\n",
      "\n",
      "From: gsilver@umich.edu\n",
      "\n",
      "From wagnermr@iupui.edu Fri Jan  4 10:38:42 2008\n",
      "\n",
      "From: wagnermr@iupui.edu\n",
      "\n",
      "From zqian@umich.edu Fri Jan  4 10:17:43 2008\n",
      "\n",
      "From: zqian@umich.edu\n",
      "\n",
      "From antranig@caret.cam.ac.uk Fri Jan  4 10:04:14 2008\n",
      "\n",
      "From: antranig@caret.cam.ac.uk\n",
      "\n",
      "From gopal.ramasammycook@gmail.com Fri Jan  4 09:05:31 2008\n",
      "\n",
      "From: gopal.ramasammycook@gmail.com\n",
      "\n",
      "From david.horwitz@uct.ac.za Fri Jan  4 07:02:32 2008\n",
      "\n",
      "From: david.horwitz@uct.ac.za\n",
      "\n",
      "From david.horwitz@uct.ac.za Fri Jan  4 06:08:27 2008\n",
      "\n",
      "From: david.horwitz@uct.ac.za\n",
      "\n",
      "From david.horwitz@uct.ac.za Fri Jan  4 04:49:08 2008\n",
      "\n",
      "From: david.horwitz@uct.ac.za\n",
      "\n",
      "From david.horwitz@uct.ac.za Fri Jan  4 04:33:44 2008\n",
      "\n",
      "From: david.horwitz@uct.ac.za\n",
      "\n",
      "From stephen.marquard@uct.ac.za Fri Jan  4 04:07:34 2008\n",
      "\n",
      "From: stephen.marquard@uct.ac.za\n",
      "\n",
      "From louis@media.berkeley.edu Thu Jan  3 19:51:21 2008\n",
      "\n",
      "From: louis@media.berkeley.edu\n",
      "\n",
      "From louis@media.berkeley.edu Thu Jan  3 17:18:23 2008\n",
      "\n",
      "From: louis@media.berkeley.edu\n",
      "\n",
      "From ray@media.berkeley.edu Thu Jan  3 17:07:00 2008\n",
      "\n",
      "From: ray@media.berkeley.edu\n",
      "\n",
      "From cwen@iupui.edu Thu Jan  3 16:34:40 2008\n",
      "\n",
      "From: cwen@iupui.edu\n",
      "\n",
      "From cwen@iupui.edu Thu Jan  3 16:29:07 2008\n",
      "\n",
      "From: cwen@iupui.edu\n",
      "\n",
      "From cwen@iupui.edu Thu Jan  3 16:23:48 2008\n",
      "\n",
      "From: cwen@iupui.edu\n",
      "\n"
     ]
    }
   ],
   "source": [
    "try:\n",
    "    f = open('mailbox.txt')\n",
    "    for i in f:\n",
    "        if i.startswith('From'):\n",
    "            print(i)\n",
    "except FileNotFoundError:\n",
    "    print('khong the mo file: mailbox.txt')"
   ]
  },
  {
   "cell_type": "code",
   "execution_count": null,
   "id": "82f77bc5-7627-453d-bdc7-d8bb00743037",
   "metadata": {},
   "outputs": [],
   "source": [
    "z"
   ]
  }
 ],
 "metadata": {
  "kernelspec": {
   "display_name": "Python 3 (ipykernel)",
   "language": "python",
   "name": "python3"
  },
  "language_info": {
   "codemirror_mode": {
    "name": "ipython",
    "version": 3
   },
   "file_extension": ".py",
   "mimetype": "text/x-python",
   "name": "python",
   "nbconvert_exporter": "python",
   "pygments_lexer": "ipython3",
   "version": "3.11.5"
  }
 },
 "nbformat": 4,
 "nbformat_minor": 5
}
