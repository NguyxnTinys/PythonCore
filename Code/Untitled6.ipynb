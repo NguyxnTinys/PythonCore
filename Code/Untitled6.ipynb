{
 "cells": [
  {
   "cell_type": "code",
   "execution_count": 24,
   "id": "fc78e890-3725-4d1e-9202-21618c4d7e2b",
   "metadata": {
    "tags": []
   },
   "outputs": [],
   "source": [
    "import pandas as pd\n",
    "import numpy as np"
   ]
  },
  {
   "cell_type": "code",
   "execution_count": 34,
   "id": "6d50ac7b-f4c1-4442-828d-5baba3b23f40",
   "metadata": {
    "tags": []
   },
   "outputs": [
    {
     "name": "stdin",
     "output_type": "stream",
     "text": [
      "Họ tên sinh viên (bỏ trống để thoát):  a\n",
      "Mã sinh viên:  1\n",
      "Ngày sinh (dd/mm/yyyy):  27/07/2005\n",
      "Họ tên sinh viên (bỏ trống để thoát):  b\n",
      "Mã sinh viên:  2\n",
      "Ngày sinh (dd/mm/yyyy):  13/10/2004\n",
      "Họ tên sinh viên (bỏ trống để thoát):  c\n",
      "Mã sinh viên:  3\n",
      "Ngày sinh (dd/mm/yyyy):  12/12/2003\n",
      "Họ tên sinh viên (bỏ trống để thoát):  \n"
     ]
    }
   ],
   "source": [
    "HS = []\n",
    "\n",
    "while True:\n",
    "    name = input(\"Họ tên sinh viên (bỏ trống để thoát): \")\n",
    "    if name.strip() == \"\":\n",
    "        break\n",
    "    StudentId = input(\"Mã sinh viên: \")\n",
    "    Birthday = input(\"Ngày sinh (dd/mm/yyyy): \")\n",
    "    HS.append({\"Name\": name,\"StudentId\": StudentId,\"Birthday\": Birthday})"
   ]
  },
  {
   "cell_type": "code",
   "execution_count": 35,
   "id": "1f4367d4-b2ec-46ed-9d5a-18b7839cf079",
   "metadata": {
    "tags": []
   },
   "outputs": [
    {
     "data": {
      "text/html": [
       "<div>\n",
       "<style scoped>\n",
       "    .dataframe tbody tr th:only-of-type {\n",
       "        vertical-align: middle;\n",
       "    }\n",
       "\n",
       "    .dataframe tbody tr th {\n",
       "        vertical-align: top;\n",
       "    }\n",
       "\n",
       "    .dataframe thead th {\n",
       "        text-align: right;\n",
       "    }\n",
       "</style>\n",
       "<table border=\"1\" class=\"dataframe\">\n",
       "  <thead>\n",
       "    <tr style=\"text-align: right;\">\n",
       "      <th></th>\n",
       "      <th>Name</th>\n",
       "      <th>StudentId</th>\n",
       "      <th>Birthday</th>\n",
       "    </tr>\n",
       "  </thead>\n",
       "  <tbody>\n",
       "    <tr>\n",
       "      <th>0</th>\n",
       "      <td>a</td>\n",
       "      <td>1</td>\n",
       "      <td>27/07/2005</td>\n",
       "    </tr>\n",
       "    <tr>\n",
       "      <th>1</th>\n",
       "      <td>b</td>\n",
       "      <td>2</td>\n",
       "      <td>13/10/2004</td>\n",
       "    </tr>\n",
       "    <tr>\n",
       "      <th>2</th>\n",
       "      <td>c</td>\n",
       "      <td>3</td>\n",
       "      <td>12/12/2003</td>\n",
       "    </tr>\n",
       "  </tbody>\n",
       "</table>\n",
       "</div>"
      ],
      "text/plain": [
       "  Name StudentId    Birthday\n",
       "0    a         1  27/07/2005\n",
       "1    b         2  13/10/2004\n",
       "2    c         3  12/12/2003"
      ]
     },
     "execution_count": 35,
     "metadata": {},
     "output_type": "execute_result"
    }
   ],
   "source": [
    "df = pd.DataFrame(HS)\n",
    "df"
   ]
  },
  {
   "cell_type": "code",
   "execution_count": 37,
   "id": "03eeb708-355b-4059-b2be-4076bf12029f",
   "metadata": {
    "tags": []
   },
   "outputs": [],
   "source": [
    "df.to_excel(\"students.xlsx\", index=False)"
   ]
  },
  {
   "cell_type": "code",
   "execution_count": 39,
   "id": "29bf9a14-423c-4c12-bdee-e4e81ca03a18",
   "metadata": {
    "tags": []
   },
   "outputs": [],
   "source": [
    "df['Time'] = pd.to_datetime(df['Birthday'],dayfirst=True)\n",
    "df['Year'] = df['Time'].dt.year\n",
    "df['Age'] = 2025 - df['Year']    "
   ]
  },
  {
   "cell_type": "code",
   "execution_count": 40,
   "id": "c2036a50-6492-4320-bcef-c48dbf0e46a4",
   "metadata": {
    "tags": []
   },
   "outputs": [
    {
     "name": "stdout",
     "output_type": "stream",
     "text": [
      "\n",
      "Danh sách sinh viên:\n",
      "  Name StudentId    Birthday       Time  Year  Age\n",
      "0    a         1  27/07/2005 2005-07-27  2005   20\n",
      "1    b         2  13/10/2004 2004-10-13  2004   21\n",
      "2    c         3  12/12/2003 2003-12-12  2003   22\n"
     ]
    }
   ],
   "source": [
    "print(\"\\nDanh sách sinh viên:\")\n",
    "print(df)"
   ]
  },
  {
   "cell_type": "code",
   "execution_count": null,
   "id": "c29f185c-c4b6-4ebc-b6dd-ef91773646fe",
   "metadata": {},
   "outputs": [],
   "source": []
  }
 ],
 "metadata": {
  "kernelspec": {
   "display_name": "Python 3 (ipykernel)",
   "language": "python",
   "name": "python3"
  },
  "language_info": {
   "codemirror_mode": {
    "name": "ipython",
    "version": 3
   },
   "file_extension": ".py",
   "mimetype": "text/x-python",
   "name": "python",
   "nbconvert_exporter": "python",
   "pygments_lexer": "ipython3",
   "version": "3.11.5"
  }
 },
 "nbformat": 4,
 "nbformat_minor": 5
}
