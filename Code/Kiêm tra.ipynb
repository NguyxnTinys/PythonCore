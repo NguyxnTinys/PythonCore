{
 "cells": [
  {
   "cell_type": "markdown",
   "id": "330ab285-7eb9-439d-9e1a-68898b1a1a5f",
   "metadata": {},
   "source": [
    "## Hoàng Thị Kim Hoa"
   ]
  },
  {
   "cell_type": "code",
   "execution_count": 1,
   "id": "115fa2e1-454d-4f21-a99c-b14fe6f71090",
   "metadata": {
    "tags": []
   },
   "outputs": [],
   "source": [
    "# Bai 1 :"
   ]
  },
  {
   "cell_type": "code",
   "execution_count": 19,
   "id": "13d1926b-261d-4bbe-b95d-f3f20ccf5f7f",
   "metadata": {
    "tags": []
   },
   "outputs": [
    {
     "name": "stdin",
     "output_type": "stream",
     "text": [
      "Nhập một chuỗi:  hoa1234\n"
     ]
    },
    {
     "name": "stdout",
     "output_type": "stream",
     "text": [
      "[1, 2, 3, 4]\n",
      "Tích các số lẻ = 3\n"
     ]
    }
   ],
   "source": [
    "# Nhập vào một chuỗi bất kỳ từ bàn phím\n",
    "chuoi = input(\"Nhập một chuỗi: \")\n",
    "\n",
    "chuoi_so = []\n",
    "\n",
    "for ky_tu in chuoi:\n",
    "    if '0' <= ky_tu <= '9':\n",
    "        chuoi_so.append(int(ky_tu)) \n",
    "\n",
    "print(chuoi_so)\n",
    "\n",
    "d = 0  \n",
    "s = 1  \n",
    "\n",
    "for i in chuoi_so:\n",
    "    if i % 2 != 0: \n",
    "        d += 1\n",
    "        s *= i\n",
    "\n",
    "if d == 0:\n",
    "    print('Không có số lẻ')\n",
    "else:\n",
    "    print(f'Tích các số lẻ = {s}')\n"
   ]
  },
  {
   "cell_type": "code",
   "execution_count": 38,
   "id": "082b456b-47d4-4947-b908-edd4719e9440",
   "metadata": {
    "tags": []
   },
   "outputs": [
    {
     "data": {
      "text/plain": [
       "('i10', 2020, 320)"
      ]
     },
     "execution_count": 38,
     "metadata": {},
     "output_type": "execute_result"
    }
   ],
   "source": [
    "class Oldcar:\n",
    "    def __init__(sedf,brand,color,year,price):\n",
    "        sedf.brand = brand\n",
    "        sedf.color = color\n",
    "        sedf.year = int(year)\n",
    "        sedf.price = float(price)\n",
    "    \n",
    "    def info(sedf):\n",
    "        return sedf.brand,sedf.year,sedf.price\n",
    "    def setPrice(sedf,x):\n",
    "        sedf.price = x\n",
    "    def gia(sedf):\n",
    "        return sedf.price\n",
    "\n",
    "car = Oldcar('i10','White',2020,350)\n",
    "car.setPrice(320)\n",
    "car.info()"
   ]
  },
  {
   "cell_type": "code",
   "execution_count": 46,
   "id": "ff87fd9d-fb60-4ad6-ae86-500b87938285",
   "metadata": {
    "tags": []
   },
   "outputs": [
    {
     "name": "stdout",
     "output_type": "stream",
     "text": [
      "Nhap thong tin xe thu 1\n"
     ]
    },
    {
     "name": "stdin",
     "output_type": "stream",
     "text": [
      "Hang 1\n",
      "Mau 2\n",
      "Nam: 3\n",
      "Gia: 123\n"
     ]
    },
    {
     "name": "stdout",
     "output_type": "stream",
     "text": [
      "Nhap thong tin xe thu 2\n"
     ]
    },
    {
     "name": "stdin",
     "output_type": "stream",
     "text": [
      "Hang 1\n",
      "Mau 2\n",
      "Nam: 3\n",
      "Gia: 109\n"
     ]
    },
    {
     "name": "stdout",
     "output_type": "stream",
     "text": [
      "('1', 3, 123.0)\n",
      "('1', 3, 109.0)\n"
     ]
    }
   ],
   "source": [
    "a = []\n",
    "for i in range(5): \n",
    "    print(f'Nhap thong tin xe thu {i+1}')\n",
    "    brand = input('Hang')\n",
    "    color = input('Mau')\n",
    "    year = int(input('Nam:'))\n",
    "    price = float(input('Gia:'))\n",
    "    a.append(Oldcar(brand,color,year,price))\n",
    "    \n",
    "for i in range(5):  \n",
    "    print(a[i].info())"
   ]
  },
  {
   "cell_type": "code",
   "execution_count": 47,
   "id": "84ce690a-fbde-471c-9e1e-dde73384cc97",
   "metadata": {
    "tags": []
   },
   "outputs": [
    {
     "name": "stdout",
     "output_type": "stream",
     "text": [
      "212.0\n"
     ]
    }
   ],
   "source": [
    "s = 0\n",
    "for i in range(5):  \n",
    "    a[i].setPrice(a[i].gia()- 10.0)\n",
    "    s += a[i].gia()\n",
    "print(s)"
   ]
  },
  {
   "cell_type": "code",
   "execution_count": 55,
   "id": "0def953d-f996-4b40-96aa-f84bff1379c9",
   "metadata": {
    "tags": []
   },
   "outputs": [
    {
     "name": "stdout",
     "output_type": "stream",
     "text": [
      "95\t9\t7\t7.6\tDAT\tB\n",
      "96\t5\t3\t3.6\tHOCLAI\tF+\n",
      "97\t4\t3\t3.3\tHOCLAI\tF+\n",
      "98\t8\t2.5\t4.2\tDAT\tD\n",
      "99\t9\t3\t4.8\tDAT\tD+\n"
     ]
    }
   ],
   "source": [
    "with open('Bangdiem.txt', 'r') as f:\n",
    "    a = f.readlines()  \n",
    "    b = a[-5:]  \n",
    "    for i in b:\n",
    "        print(i, end='')"
   ]
  },
  {
   "cell_type": "code",
   "execution_count": 67,
   "id": "c6849126-1d86-4f1a-adcf-242d76903491",
   "metadata": {
    "tags": []
   },
   "outputs": [
    {
     "name": "stdout",
     "output_type": "stream",
     "text": [
      "Co 11 sinh vien tren 7\n",
      "[['21', '8', '7', '7.3', 'DAT', 'B'], ['24', '10', '8', '8.6', 'DAT', 'A'], ['44', '9', '7.5', '8', 'DAT', 'B+'], ['47', '9', '6.5', '7.3', 'DAT', 'B'], ['49', '8', '8', '8', 'DAT', 'B+'], ['50', '9.5', '8', '8.5', 'DAT', 'A'], ['57', '10', '7.5', '8.3', 'DAT', 'B'], ['58', '10', '9', '9.3', 'DAT', 'A'], ['68', '8.5', '7', '7.5', 'DAT', 'B'], ['75', '8.5', '8', '8.2', 'DAT', 'B'], ['95', '9', '7', '7.6', 'DAT', 'B']]\n"
     ]
    }
   ],
   "source": [
    "diem = []\n",
    "d = 0\n",
    "\n",
    "with open('Bangdiem.txt', 'r') as f: \n",
    "    for line in f:\n",
    "        row = line.strip().split()\n",
    "        try:\n",
    "            score = float(row[3]) \n",
    "            if score > 7:\n",
    "                diem.append(row)\n",
    "                d += 1\n",
    "        except ValueError:\n",
    "            continue\n",
    "\n",
    "if d == 0:\n",
    "    print('Khong co sinh vien tren 7')\n",
    "else:\n",
    "    print(f'Co {d} sinh vien tren 7')\n",
    "    print(diem)\n"
   ]
  },
  {
   "cell_type": "code",
   "execution_count": 1,
   "id": "1e6f01ed-3bf1-4c4f-95e8-e5e78147a759",
   "metadata": {
    "tags": []
   },
   "outputs": [
    {
     "ename": "NameError",
     "evalue": "name 'sìuóigoẹ' is not defined",
     "output_type": "error",
     "traceback": [
      "\u001b[1;31m---------------------------------------------------------------------------\u001b[0m",
      "\u001b[1;31mNameError\u001b[0m                                 Traceback (most recent call last)",
      "Cell \u001b[1;32mIn[1], line 1\u001b[0m\n\u001b[1;32m----> 1\u001b[0m sìuóigoẹ\n",
      "\u001b[1;31mNameError\u001b[0m: name 'sìuóigoẹ' is not defined"
     ]
    }
   ],
   "source": []
  },
  {
   "cell_type": "code",
   "execution_count": null,
   "id": "f93d06f2-eede-4f8e-a28d-385afef1c240",
   "metadata": {},
   "outputs": [],
   "source": []
  }
 ],
 "metadata": {
  "kernelspec": {
   "display_name": "Python 3 (ipykernel)",
   "language": "python",
   "name": "python3"
  },
  "language_info": {
   "codemirror_mode": {
    "name": "ipython",
    "version": 3
   },
   "file_extension": ".py",
   "mimetype": "text/x-python",
   "name": "python",
   "nbconvert_exporter": "python",
   "pygments_lexer": "ipython3",
   "version": "3.11.5"
  }
 },
 "nbformat": 4,
 "nbformat_minor": 5
}
