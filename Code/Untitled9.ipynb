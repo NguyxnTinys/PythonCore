{
 "cells": [
  {
   "cell_type": "code",
   "execution_count": null,
   "id": "f0215856-e892-42aa-9d13-d2eec966723d",
   "metadata": {},
   "outputs": [],
   "source": [
    "#Bai 1: Doc file bien_xe.txt, nhap cac bien so cach nhau boi dau phay"
   ]
  },
  {
   "cell_type": "code",
   "execution_count": 16,
   "id": "0473858c-62e9-4e0d-a649-334c9c14bca0",
   "metadata": {
    "tags": []
   },
   "outputs": [],
   "source": [
    "# Đọc dữ liệu từ file\n",
    "ma_tinh = {}\n",
    "with open(\"bien_so_xe.txt\", \"r\") as f:\n",
    "    for line in f:\n",
    "        if ':' in line:\n",
    "            phan = line.strip().split(':')\n",
    "            ten = phan[0]\n",
    "            ma = phan[1]\n",
    "            ma_tinh[ma] = ten"
   ]
  },
  {
   "cell_type": "code",
   "execution_count": 21,
   "id": "181a2159-6c96-4255-9e09-0742c021d5f4",
   "metadata": {
    "tags": []
   },
   "outputs": [
    {
     "name": "stdin",
     "output_type": "stream",
     "text": [
      "Nhập biển số xe:  38AK-04700,20AE-000\n"
     ]
    }
   ],
   "source": [
    "bien_so = input(\"Nhập biển số xe: \")\n",
    "ds = bien_so.split(',')"
   ]
  },
  {
   "cell_type": "code",
   "execution_count": 22,
   "id": "420d3d8b-bff4-4ec7-95a0-13fc0d94d8ed",
   "metadata": {
    "tags": []
   },
   "outputs": [
    {
     "name": "stdout",
     "output_type": "stream",
     "text": [
      "Ha Tinh\n",
      "Thai Nguyen\n"
     ]
    }
   ],
   "source": [
    "for bien_so in ds:\n",
    "    bien_so = bien_so.strip()  \n",
    "    ma = bien_so[:2]\n",
    "    if ma in ma_tinh:\n",
    "        ten = ma_tinh[ma]\n",
    "    else:\n",
    "        ten = \"Không rõ\"\n",
    "    print(ten)"
   ]
  },
  {
   "cell_type": "code",
   "execution_count": 23,
   "id": "26191df2-dd86-49c6-aeae-27b92e6cf8b6",
   "metadata": {
    "tags": []
   },
   "outputs": [],
   "source": [
    "import numpy as np"
   ]
  },
  {
   "cell_type": "code",
   "execution_count": 25,
   "id": "2ead2654-a750-404d-8d93-93c837a50b4d",
   "metadata": {
    "tags": []
   },
   "outputs": [
    {
     "data": {
      "text/plain": [
       "array([[ 1, -5,  2],\n",
       "       [-3,  1,  0],\n",
       "       [ 4,  3, -2]])"
      ]
     },
     "execution_count": 25,
     "metadata": {},
     "output_type": "execute_result"
    }
   ],
   "source": [
    "#Tạo ma trận A\n",
    "A = np.array([[1,-5,2],[-3,1,0],[4,3,-2]])\n",
    "A"
   ]
  },
  {
   "cell_type": "code",
   "execution_count": 26,
   "id": "d41a4992-6456-4324-a32d-2a4b1967a0a8",
   "metadata": {
    "tags": []
   },
   "outputs": [
    {
     "data": {
      "text/plain": [
       "array([[-3,  4,  1],\n",
       "       [-1,  5, -2],\n",
       "       [ 0,  1,  6]])"
      ]
     },
     "execution_count": 26,
     "metadata": {},
     "output_type": "execute_result"
    }
   ],
   "source": [
    "#Tạo ma trận B\n",
    "B = np.array([[-3,4,1],[-1,5,-2],[0,1,6]])\n",
    "B"
   ]
  },
  {
   "cell_type": "code",
   "execution_count": 48,
   "id": "711e5383-f044-4b61-80ac-eb5140fdd29b",
   "metadata": {
    "tags": []
   },
   "outputs": [],
   "source": [
    "C = A@B - B@A + 4*A**2 - 9*B**2"
   ]
  },
  {
   "cell_type": "code",
   "execution_count": 49,
   "id": "a56676d0-080c-47f3-8fe8-54056530b4b7",
   "metadata": {
    "tags": []
   },
   "outputs": [
    {
     "data": {
      "text/plain": [
       "array([[ -64,  -85,   38],\n",
       "       [  59, -232,  -43],\n",
       "       [  28,   37, -310]])"
      ]
     },
     "execution_count": 49,
     "metadata": {},
     "output_type": "execute_result"
    }
   ],
   "source": [
    "C"
   ]
  },
  {
   "cell_type": "code",
   "execution_count": 50,
   "id": "22b7c4f6-2b6f-4953-b2f4-b7c9364cafbf",
   "metadata": {
    "tags": []
   },
   "outputs": [],
   "source": [
    "I = np.identity(3)"
   ]
  },
  {
   "cell_type": "code",
   "execution_count": 55,
   "id": "1e0858e6-5fc5-4ffc-946b-d3a665c00dda",
   "metadata": {
    "tags": []
   },
   "outputs": [],
   "source": [
    "D = np.block([[I,-A,B],[-A,A@A,-A@B]])"
   ]
  },
  {
   "cell_type": "code",
   "execution_count": 56,
   "id": "f2837c0a-d582-4fe5-9bff-a0551d3b7335",
   "metadata": {
    "tags": []
   },
   "outputs": [
    {
     "data": {
      "text/plain": [
       "array([[  1.,   0.,   0.,  -1.,   5.,  -2.,  -3.,   4.,   1.],\n",
       "       [  0.,   1.,   0.,   3.,  -1.,   0.,  -1.,   5.,  -2.],\n",
       "       [  0.,   0.,   1.,  -4.,  -3.,   2.,   0.,   1.,   6.],\n",
       "       [ -1.,   5.,  -2.,  24.,  -4.,  -2.,  -2.,  19., -23.],\n",
       "       [  3.,  -1.,   0.,  -6.,  16.,  -6.,  -8.,   7.,   5.],\n",
       "       [ -4.,  -3.,   2., -13., -23.,  12.,  15., -29.,  14.]])"
      ]
     },
     "execution_count": 56,
     "metadata": {},
     "output_type": "execute_result"
    }
   ],
   "source": [
    "D"
   ]
  },
  {
   "cell_type": "code",
   "execution_count": 57,
   "id": "aa907334-450b-4662-a570-b8a0b5fb73ef",
   "metadata": {
    "tags": []
   },
   "outputs": [],
   "source": [
    "r_D = np.linalg.matrix_rank(D)"
   ]
  },
  {
   "cell_type": "code",
   "execution_count": 58,
   "id": "b6b30880-00c8-4cb4-af2d-0cb0bde71247",
   "metadata": {
    "tags": []
   },
   "outputs": [
    {
     "data": {
      "text/plain": [
       "3"
      ]
     },
     "execution_count": 58,
     "metadata": {},
     "output_type": "execute_result"
    }
   ],
   "source": [
    "r_D"
   ]
  },
  {
   "cell_type": "code",
   "execution_count": 59,
   "id": "f8631e84-db3b-4bf8-81d6-9bd793e5307e",
   "metadata": {
    "tags": []
   },
   "outputs": [
    {
     "data": {
      "text/plain": [
       "array([ 5., 14., 31.])"
      ]
     },
     "execution_count": 59,
     "metadata": {},
     "output_type": "execute_result"
    }
   ],
   "source": [
    "np.linalg.solve(A,B[:,0])"
   ]
  },
  {
   "cell_type": "code",
   "execution_count": 60,
   "id": "daa0d127-c7f8-4ae9-9047-5caf2c06ec0e",
   "metadata": {
    "tags": []
   },
   "outputs": [],
   "source": [
    "import pandas as pd"
   ]
  },
  {
   "cell_type": "code",
   "execution_count": 61,
   "id": "b700acba-6140-4d65-84e8-76f43a144d28",
   "metadata": {
    "tags": []
   },
   "outputs": [],
   "source": [
    "f = pd.read_csv(\"absent_employees.csv\")"
   ]
  },
  {
   "cell_type": "code",
   "execution_count": 62,
   "id": "1359f9d1-fb21-4f03-abf9-9da3935f6507",
   "metadata": {
    "tags": []
   },
   "outputs": [
    {
     "data": {
      "text/html": [
       "<div>\n",
       "<style scoped>\n",
       "    .dataframe tbody tr th:only-of-type {\n",
       "        vertical-align: middle;\n",
       "    }\n",
       "\n",
       "    .dataframe tbody tr th {\n",
       "        vertical-align: top;\n",
       "    }\n",
       "\n",
       "    .dataframe thead th {\n",
       "        text-align: right;\n",
       "    }\n",
       "</style>\n",
       "<table border=\"1\" class=\"dataframe\">\n",
       "  <thead>\n",
       "    <tr style=\"text-align: right;\">\n",
       "      <th></th>\n",
       "      <th>EmployeeNumber</th>\n",
       "      <th>Surname</th>\n",
       "      <th>GivenName</th>\n",
       "      <th>Gender</th>\n",
       "      <th>City</th>\n",
       "      <th>JobTitle</th>\n",
       "      <th>DepartmentName</th>\n",
       "      <th>StoreLocation</th>\n",
       "      <th>Division</th>\n",
       "      <th>Age</th>\n",
       "      <th>LengthService</th>\n",
       "      <th>AbsentHours</th>\n",
       "      <th>BusinessUnit</th>\n",
       "    </tr>\n",
       "  </thead>\n",
       "  <tbody>\n",
       "    <tr>\n",
       "      <th>0</th>\n",
       "      <td>1</td>\n",
       "      <td>Gutierrez</td>\n",
       "      <td>Molly</td>\n",
       "      <td>F</td>\n",
       "      <td>Burnaby</td>\n",
       "      <td>Baker</td>\n",
       "      <td>Bakery</td>\n",
       "      <td>Burnaby</td>\n",
       "      <td>Stores</td>\n",
       "      <td>32.028816</td>\n",
       "      <td>6.018478</td>\n",
       "      <td>36.577306</td>\n",
       "      <td>Stores</td>\n",
       "    </tr>\n",
       "    <tr>\n",
       "      <th>1</th>\n",
       "      <td>2</td>\n",
       "      <td>Hardwick</td>\n",
       "      <td>Stephen</td>\n",
       "      <td>M</td>\n",
       "      <td>Courtenay</td>\n",
       "      <td>Baker</td>\n",
       "      <td>Bakery</td>\n",
       "      <td>Nanaimo</td>\n",
       "      <td>Stores</td>\n",
       "      <td>40.320902</td>\n",
       "      <td>5.532445</td>\n",
       "      <td>30.165072</td>\n",
       "      <td>Stores</td>\n",
       "    </tr>\n",
       "    <tr>\n",
       "      <th>2</th>\n",
       "      <td>3</td>\n",
       "      <td>Delgado</td>\n",
       "      <td>Chester</td>\n",
       "      <td>M</td>\n",
       "      <td>Richmond</td>\n",
       "      <td>Baker</td>\n",
       "      <td>Bakery</td>\n",
       "      <td>Richmond</td>\n",
       "      <td>Stores</td>\n",
       "      <td>48.822047</td>\n",
       "      <td>4.389973</td>\n",
       "      <td>83.807798</td>\n",
       "      <td>Stores</td>\n",
       "    </tr>\n",
       "    <tr>\n",
       "      <th>3</th>\n",
       "      <td>4</td>\n",
       "      <td>Simon</td>\n",
       "      <td>Irene</td>\n",
       "      <td>F</td>\n",
       "      <td>Victoria</td>\n",
       "      <td>Baker</td>\n",
       "      <td>Bakery</td>\n",
       "      <td>Victoria</td>\n",
       "      <td>Stores</td>\n",
       "      <td>44.599357</td>\n",
       "      <td>3.081736</td>\n",
       "      <td>70.020165</td>\n",
       "      <td>Stores</td>\n",
       "    </tr>\n",
       "    <tr>\n",
       "      <th>4</th>\n",
       "      <td>5</td>\n",
       "      <td>Delvalle</td>\n",
       "      <td>Edward</td>\n",
       "      <td>M</td>\n",
       "      <td>New Westminster</td>\n",
       "      <td>Baker</td>\n",
       "      <td>Bakery</td>\n",
       "      <td>New Westminster</td>\n",
       "      <td>Stores</td>\n",
       "      <td>35.697876</td>\n",
       "      <td>3.619091</td>\n",
       "      <td>0.000000</td>\n",
       "      <td>Stores</td>\n",
       "    </tr>\n",
       "    <tr>\n",
       "      <th>...</th>\n",
       "      <td>...</td>\n",
       "      <td>...</td>\n",
       "      <td>...</td>\n",
       "      <td>...</td>\n",
       "      <td>...</td>\n",
       "      <td>...</td>\n",
       "      <td>...</td>\n",
       "      <td>...</td>\n",
       "      <td>...</td>\n",
       "      <td>...</td>\n",
       "      <td>...</td>\n",
       "      <td>...</td>\n",
       "      <td>...</td>\n",
       "    </tr>\n",
       "    <tr>\n",
       "      <th>8331</th>\n",
       "      <td>8332</td>\n",
       "      <td>Coniglio</td>\n",
       "      <td>Bianca</td>\n",
       "      <td>F</td>\n",
       "      <td>Langley</td>\n",
       "      <td>Cashier</td>\n",
       "      <td>Customer Service</td>\n",
       "      <td>Langley</td>\n",
       "      <td>Stores</td>\n",
       "      <td>46.057544</td>\n",
       "      <td>4.838288</td>\n",
       "      <td>93.665111</td>\n",
       "      <td>Stores</td>\n",
       "    </tr>\n",
       "    <tr>\n",
       "      <th>8332</th>\n",
       "      <td>8333</td>\n",
       "      <td>Cox</td>\n",
       "      <td>Jimmie</td>\n",
       "      <td>M</td>\n",
       "      <td>Montney</td>\n",
       "      <td>Cashier</td>\n",
       "      <td>Customer Service</td>\n",
       "      <td>Fort St John</td>\n",
       "      <td>Stores</td>\n",
       "      <td>34.455490</td>\n",
       "      <td>2.427274</td>\n",
       "      <td>0.000000</td>\n",
       "      <td>Stores</td>\n",
       "    </tr>\n",
       "    <tr>\n",
       "      <th>8333</th>\n",
       "      <td>8334</td>\n",
       "      <td>Hawkins</td>\n",
       "      <td>Mary</td>\n",
       "      <td>F</td>\n",
       "      <td>West Vancouver</td>\n",
       "      <td>Cashier</td>\n",
       "      <td>Customer Service</td>\n",
       "      <td>West Vancouver</td>\n",
       "      <td>Stores</td>\n",
       "      <td>58.347160</td>\n",
       "      <td>4.009393</td>\n",
       "      <td>176.356940</td>\n",
       "      <td>Stores</td>\n",
       "    </tr>\n",
       "    <tr>\n",
       "      <th>8334</th>\n",
       "      <td>8335</td>\n",
       "      <td>Proctor</td>\n",
       "      <td>Theresa</td>\n",
       "      <td>F</td>\n",
       "      <td>Vancouver</td>\n",
       "      <td>Dairy Person</td>\n",
       "      <td>Dairy</td>\n",
       "      <td>Vancouver</td>\n",
       "      <td>Stores</td>\n",
       "      <td>43.340616</td>\n",
       "      <td>6.154837</td>\n",
       "      <td>60.321917</td>\n",
       "      <td>Stores</td>\n",
       "    </tr>\n",
       "    <tr>\n",
       "      <th>8335</th>\n",
       "      <td>8336</td>\n",
       "      <td>Salter</td>\n",
       "      <td>Charles</td>\n",
       "      <td>M</td>\n",
       "      <td>Vancouver</td>\n",
       "      <td>Dairy Person</td>\n",
       "      <td>Dairy</td>\n",
       "      <td>Vancouver</td>\n",
       "      <td>Stores</td>\n",
       "      <td>46.192782</td>\n",
       "      <td>5.174722</td>\n",
       "      <td>112.023389</td>\n",
       "      <td>Stores</td>\n",
       "    </tr>\n",
       "  </tbody>\n",
       "</table>\n",
       "<p>8336 rows × 13 columns</p>\n",
       "</div>"
      ],
      "text/plain": [
       "      EmployeeNumber    Surname GivenName Gender             City  \\\n",
       "0                  1  Gutierrez     Molly      F          Burnaby   \n",
       "1                  2   Hardwick   Stephen      M        Courtenay   \n",
       "2                  3    Delgado   Chester      M         Richmond   \n",
       "3                  4      Simon     Irene      F         Victoria   \n",
       "4                  5   Delvalle    Edward      M  New Westminster   \n",
       "...              ...        ...       ...    ...              ...   \n",
       "8331            8332   Coniglio    Bianca      F          Langley   \n",
       "8332            8333        Cox    Jimmie      M          Montney   \n",
       "8333            8334    Hawkins      Mary      F   West Vancouver   \n",
       "8334            8335    Proctor   Theresa      F        Vancouver   \n",
       "8335            8336     Salter   Charles      M        Vancouver   \n",
       "\n",
       "          JobTitle    DepartmentName    StoreLocation Division        Age  \\\n",
       "0            Baker            Bakery          Burnaby   Stores  32.028816   \n",
       "1            Baker            Bakery          Nanaimo   Stores  40.320902   \n",
       "2            Baker            Bakery         Richmond   Stores  48.822047   \n",
       "3            Baker            Bakery         Victoria   Stores  44.599357   \n",
       "4            Baker            Bakery  New Westminster   Stores  35.697876   \n",
       "...            ...               ...              ...      ...        ...   \n",
       "8331       Cashier  Customer Service          Langley   Stores  46.057544   \n",
       "8332       Cashier  Customer Service     Fort St John   Stores  34.455490   \n",
       "8333       Cashier  Customer Service   West Vancouver   Stores  58.347160   \n",
       "8334  Dairy Person             Dairy        Vancouver   Stores  43.340616   \n",
       "8335  Dairy Person             Dairy        Vancouver   Stores  46.192782   \n",
       "\n",
       "      LengthService  AbsentHours BusinessUnit  \n",
       "0          6.018478    36.577306       Stores  \n",
       "1          5.532445    30.165072       Stores  \n",
       "2          4.389973    83.807798       Stores  \n",
       "3          3.081736    70.020165       Stores  \n",
       "4          3.619091     0.000000       Stores  \n",
       "...             ...          ...          ...  \n",
       "8331       4.838288    93.665111       Stores  \n",
       "8332       2.427274     0.000000       Stores  \n",
       "8333       4.009393   176.356940       Stores  \n",
       "8334       6.154837    60.321917       Stores  \n",
       "8335       5.174722   112.023389       Stores  \n",
       "\n",
       "[8336 rows x 13 columns]"
      ]
     },
     "execution_count": 62,
     "metadata": {},
     "output_type": "execute_result"
    }
   ],
   "source": [
    "f"
   ]
  },
  {
   "cell_type": "code",
   "execution_count": 46,
   "id": "0c45e95d-f256-4ead-a455-a1b9cb108802",
   "metadata": {
    "tags": []
   },
   "outputs": [
    {
     "name": "stdout",
     "output_type": "stream",
     "text": [
      "<class 'pandas.core.frame.DataFrame'>\n",
      "RangeIndex: 8336 entries, 0 to 8335\n",
      "Data columns (total 13 columns):\n",
      " #   Column          Non-Null Count  Dtype  \n",
      "---  ------          --------------  -----  \n",
      " 0   EmployeeNumber  8336 non-null   int64  \n",
      " 1   Surname         8336 non-null   object \n",
      " 2   GivenName       8336 non-null   object \n",
      " 3   Gender          8336 non-null   object \n",
      " 4   City            8336 non-null   object \n",
      " 5   JobTitle        8336 non-null   object \n",
      " 6   DepartmentName  8336 non-null   object \n",
      " 7   StoreLocation   8336 non-null   object \n",
      " 8   Division        8336 non-null   object \n",
      " 9   Age             8336 non-null   float64\n",
      " 10  LengthService   8336 non-null   float64\n",
      " 11  AbsentHours     8336 non-null   float64\n",
      " 12  BusinessUnit    8336 non-null   object \n",
      "dtypes: float64(3), int64(1), object(9)\n",
      "memory usage: 846.8+ KB\n"
     ]
    }
   ],
   "source": [
    "f.info()"
   ]
  },
  {
   "cell_type": "code",
   "execution_count": 47,
   "id": "d34d06cf-84c3-433d-8c56-532bc6b2ad4c",
   "metadata": {
    "tags": []
   },
   "outputs": [
    {
     "data": {
      "text/plain": [
       "EmployeeNumber    0\n",
       "Surname           0\n",
       "GivenName         0\n",
       "Gender            0\n",
       "City              0\n",
       "JobTitle          0\n",
       "DepartmentName    0\n",
       "StoreLocation     0\n",
       "Division          0\n",
       "Age               0\n",
       "LengthService     0\n",
       "AbsentHours       0\n",
       "BusinessUnit      0\n",
       "dtype: int64"
      ]
     },
     "execution_count": 47,
     "metadata": {},
     "output_type": "execute_result"
    }
   ],
   "source": [
    "f.isna().sum()"
   ]
  },
  {
   "cell_type": "code",
   "execution_count": null,
   "id": "17f35d09-559e-4085-8f82-495cc06fe51a",
   "metadata": {},
   "outputs": [],
   "source": []
  }
 ],
 "metadata": {
  "kernelspec": {
   "display_name": "Python 3 (ipykernel)",
   "language": "python",
   "name": "python3"
  },
  "language_info": {
   "codemirror_mode": {
    "name": "ipython",
    "version": 3
   },
   "file_extension": ".py",
   "mimetype": "text/x-python",
   "name": "python",
   "nbconvert_exporter": "python",
   "pygments_lexer": "ipython3",
   "version": "3.11.5"
  }
 },
 "nbformat": 4,
 "nbformat_minor": 5
}
