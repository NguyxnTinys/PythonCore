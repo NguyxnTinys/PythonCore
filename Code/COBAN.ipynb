{
 "cells": [
  {
   "cell_type": "code",
   "execution_count": 6,
   "id": "77824b79-94b8-4ed1-bd5c-2b2299e81d62",
   "metadata": {},
   "outputs": [
    {
     "name": "stdin",
     "output_type": "stream",
     "text": [
      " D 300\n",
      " w 200\n",
      " \n"
     ]
    },
    {
     "data": {
      "text/plain": [
       "100"
      ]
     },
     "execution_count": 6,
     "metadata": {},
     "output_type": "execute_result"
    }
   ],
   "source": [
    "# Bai 1: Tien gui ngan hang\n",
    "s = 0\n",
    "while True:\n",
    "    nhap = input('')\n",
    "    if not nhap:\n",
    "        break\n",
    "    loai,tien = nhap.split()\n",
    "    tien = int(tien)\n",
    "    if loai == 'D':\n",
    "        s += tien\n",
    "    else:\n",
    "        s -= tien\n",
    "s"
   ]
  },
  {
   "cell_type": "code",
   "execution_count": 8,
   "id": "8a4fc79a-5bf0-4366-8b59-be29ae4d3d45",
   "metadata": {
    "tags": []
   },
   "outputs": [
    {
     "name": "stdin",
     "output_type": "stream",
     "text": [
      "Nhap mat khau: Kimhoa@123\n"
     ]
    },
    {
     "name": "stdout",
     "output_type": "stream",
     "text": [
      "hop le\n"
     ]
    }
   ],
   "source": [
    "# Bai 2: kiem tra mat khau\n",
    "MK = input(\"Nhap mat khau:\")\n",
    "so = hoa = thuong = kytu = False\n",
    "if 6<=len(MK)<= 12:\n",
    "    for i in MK:\n",
    "        if i.isdigit():\n",
    "            so = True\n",
    "        if i.islower():\n",
    "            thuong = True\n",
    "        if i.isupper():\n",
    "            hoa = True\n",
    "        if i in '@#$':\n",
    "            kytu = True\n",
    "else: print('Khong hop le')\n",
    "\n",
    "if so and hoa and thuong and kytu:\n",
    "    print('hop le')\n",
    "else: print('Khong hop le')"
   ]
  },
  {
   "cell_type": "code",
   "execution_count": 9,
   "id": "afb7b2d5-5c34-4c2e-bbf2-f1f317c8b175",
   "metadata": {
    "tags": []
   },
   "outputs": [
    {
     "name": "stdin",
     "output_type": "stream",
     "text": [
      " UP 5\n",
      " DOWN 3\n",
      " LEFT 3\n",
      " RIGHT 3\n",
      " \n"
     ]
    },
    {
     "data": {
      "text/plain": [
       "2.0"
      ]
     },
     "execution_count": 9,
     "metadata": {},
     "output_type": "execute_result"
    }
   ],
   "source": [
    "from math import*\n",
    "x = 0\n",
    "y = 0\n",
    "\n",
    "while True:\n",
    "    nhap = input('')\n",
    "    if not nhap:\n",
    "        break\n",
    "    huong,buoc = nhap.split()\n",
    "    buoc = float(buoc)\n",
    "    if huong == 'UP':\n",
    "        y += buoc\n",
    "    elif huong == 'DOWN':\n",
    "        y -= buoc\n",
    "    elif huong == 'RIGHT':\n",
    "        x += buoc\n",
    "    else:\n",
    "        x -= buoc\n",
    "s = sqrt(x**2 + y**2)\n",
    "s"
   ]
  },
  {
   "cell_type": "code",
   "execution_count": 14,
   "id": "922910ce-4d54-4b15-97ef-031fd3b4cac7",
   "metadata": {
    "tags": []
   },
   "outputs": [
    {
     "name": "stdin",
     "output_type": "stream",
     "text": [
      " 2\n",
      " 3\n",
      " 4\n",
      " \n"
     ]
    },
    {
     "data": {
      "text/plain": [
       "28"
      ]
     },
     "execution_count": 14,
     "metadata": {},
     "output_type": "execute_result"
    }
   ],
   "source": [
    "# Bai 4:Xac dinh gia ve dua tren do tuoi \n",
    "gia = 0\n",
    "while True:\n",
    "    t = input('')\n",
    "    if not t:\n",
    "        break\n",
    "    else:\n",
    "        t = int(t)\n",
    "    if t <=2: \n",
    "        gia += 0\n",
    "    elif t <= 12:\n",
    "        gia += 14\n",
    "    elif t < 65:\n",
    "        gia += 23\n",
    "    else:\n",
    "        gia += 18\n",
    "s = round(gia,2)\n",
    "s"
   ]
  },
  {
   "cell_type": "code",
   "execution_count": 17,
   "id": "684a99c5-37e3-441f-9b04-681ae8a86446",
   "metadata": {
    "tags": []
   },
   "outputs": [
    {
     "name": "stdin",
     "output_type": "stream",
     "text": [
      " a,c,b,a\n"
     ]
    },
    {
     "name": "stdout",
     "output_type": "stream",
     "text": [
      "a,a,b,c\n"
     ]
    }
   ],
   "source": [
    "# Bai 1: Nhap vao cach nhau boi dau phay, in ra da sap xep\n",
    "\n",
    "nhap = input()\n",
    "\n",
    "list = nhap.split(',')\n",
    "list.sort()\n",
    "a = ','.join(list)\n",
    "print(a)"
   ]
  },
  {
   "cell_type": "code",
   "execution_count": 35,
   "id": "295e2c84-2529-489a-bc19-a56d211b11be",
   "metadata": {
    "tags": []
   },
   "outputs": [
    {
     "name": "stdout",
     "output_type": "stream",
     "text": [
      "2008,2026,2044,2062,2080,2206,2224,2242,2260,2288,2404,2422,2440,2468,2486,2602,2620,2648,2666,2684,2800,2828,2846,2864,2882\n"
     ]
    }
   ],
   "source": [
    "# Bai 2: Tim so [2000;3000], tat ca so la so chan, tong chia het cho 5.\n",
    "a = []\n",
    "\n",
    "for i in range(2000,3001):\n",
    "    s = 0\n",
    "    so = str(i)\n",
    "    hop = True\n",
    "    \n",
    "    for j in so:\n",
    "        j = int(j) \n",
    "        s += j\n",
    "    \n",
    "        if not j%2 == 0:\n",
    "            hop = False\n",
    "            break\n",
    "            \n",
    "    if hop and s%5 == 0:\n",
    "        a.append(so)\n",
    "        \n",
    "b = ','.join(a)\n",
    "print(b)"
   ]
  },
  {
   "cell_type": "code",
   "execution_count": 38,
   "id": "304c3137-2db7-42be-904a-9a6cc9e758d9",
   "metadata": {
    "tags": []
   },
   "outputs": [
    {
     "name": "stdin",
     "output_type": "stream",
     "text": [
      " 1234! hoa\n"
     ]
    },
    {
     "name": "stdout",
     "output_type": "stream",
     "text": [
      "4\n",
      "3\n"
     ]
    }
   ],
   "source": [
    "# Bai 3: Viet chuong tring nhap 1 cau, dem so chu cai va so chu so.\n",
    "s = input()\n",
    "so = 0\n",
    "chu = 0\n",
    "for i in s:\n",
    "    if i.isdigit():\n",
    "        so += 1\n",
    "    elif i.islower():\n",
    "        chu += 1\n",
    "    elif i.isupper():\n",
    "        chu += 1\n",
    "print(so)\n",
    "\n",
    "print(chu)"
   ]
  },
  {
   "cell_type": "code",
   "execution_count": 40,
   "id": "ad7ac1a1-eafd-4867-a351-9e8bdd6cfa01",
   "metadata": {
    "tags": []
   },
   "outputs": [
    {
     "name": "stdin",
     "output_type": "stream",
     "text": [
      " Hoa \n",
      " 10\n",
      " Truong \n",
      " 9\n",
      " \n"
     ]
    },
    {
     "name": "stdout",
     "output_type": "stream",
     "text": [
      "Truong  : 9.0\n",
      "Hoa  : 10.0\n"
     ]
    }
   ],
   "source": [
    "# Bai 4\n",
    "d = {}\n",
    "\n",
    "while True:\n",
    "    ten = input()\n",
    "    if not ten:\n",
    "        break\n",
    "    diem = float(input())\n",
    "    d[ten] = diem\n",
    "sap_xep = sorted(d.items(),key = lambda x: x[1])\n",
    "for ten, diem in sap_xep:\n",
    "    print(f'{ten} : {diem}')\n"
   ]
  },
  {
   "cell_type": "code",
   "execution_count": 5,
   "id": "7173b25a-16b6-4afc-8729-5feb64e848bf",
   "metadata": {},
   "outputs": [
    {
     "name": "stdin",
     "output_type": "stream",
     "text": [
      " 20\n"
     ]
    },
    {
     "name": "stdout",
     "output_type": "stream",
     "text": [
      "Thai Nguyen\n"
     ]
    }
   ],
   "source": [
    "# Bai 1: \n",
    "ma_tinh = {}\n",
    "with open('bien_so_xe.txt','r') as f:\n",
    "    for line in f:\n",
    "        nhap = line.strip().split(':')\n",
    "        ma_tinh[nhap[1]] = nhap[0]\n",
    "\n",
    "a = input()\n",
    "b = a.split(';')\n",
    "for i in b:\n",
    "    print(ma_tinh[i[:2]])"
   ]
  },
  {
   "cell_type": "code",
   "execution_count": 11,
   "id": "f4324e76-1603-4833-a809-6e113f9bdf25",
   "metadata": {
    "tags": []
   },
   "outputs": [],
   "source": [
    "# Bai 2:\n",
    "import numpy as np\n",
    "\n",
    "a = np.array([[1,-5,2],[-3,1,0],[4,3,-2]])\n",
    "b = np.array([[-3,4,1],[-1,5,-2],[0,1,6]])"
   ]
  },
  {
   "cell_type": "code",
   "execution_count": 17,
   "id": "1894bec1-ea37-4c0b-8b68-43a345522281",
   "metadata": {
    "tags": []
   },
   "outputs": [
    {
     "data": {
      "text/plain": [
       "array([[  64, -138,   68],\n",
       "       [  26, -118,  176],\n",
       "       [ -79, -181, -260]])"
      ]
     },
     "execution_count": 17,
     "metadata": {},
     "output_type": "execute_result"
    }
   ],
   "source": [
    "# Tinh ab - ba + 4a^2 - 9b^2\n",
    "S = np.matmul(a,b) - np.matmul(b,a) + 4*np.linalg.matrix_power(a,2)  - 9*np.linalg.matrix_power(b,2)\n",
    "S "
   ]
  },
  {
   "cell_type": "code",
   "execution_count": 19,
   "id": "1449db32-27d3-438b-841a-99f13a8701df",
   "metadata": {
    "tags": []
   },
   "outputs": [],
   "source": [
    "I = np.identity(3)"
   ]
  },
  {
   "cell_type": "code",
   "execution_count": 26,
   "id": "3e69abd9-1a67-4a31-963a-1bacbc2ab01c",
   "metadata": {
    "tags": []
   },
   "outputs": [
    {
     "data": {
      "text/plain": [
       "array([[  1.,   0.,   0.,  -1.,   5.,  -2.,  -3.,   4.,   1.],\n",
       "       [  0.,   1.,   0.,   3.,  -1.,   0.,  -1.,   5.,  -2.],\n",
       "       [  0.,   0.,   1.,  -4.,  -3.,   2.,   0.,   1.,   6.],\n",
       "       [ -1.,   5.,  -2.,  24.,  -4.,  -2.,   2., -19.,  23.],\n",
       "       [  3.,  -1.,   0.,  -6.,  16.,  -6.,   8.,  -7.,  -5.],\n",
       "       [ -4.,  -3.,   2., -13., -23.,  12., -15.,  29., -14.]])"
      ]
     },
     "execution_count": 26,
     "metadata": {},
     "output_type": "execute_result"
    }
   ],
   "source": [
    "row1 = np.hstack([I,-a,b])\n",
    "row2 = np.hstack([-a,a@a,a@b])\n",
    "c = np.vstack([row1,row2])\n",
    "c"
   ]
  },
  {
   "cell_type": "code",
   "execution_count": 28,
   "id": "3ee0277e-be29-4f1f-91c3-c4f22ff7cd0e",
   "metadata": {
    "tags": []
   },
   "outputs": [
    {
     "data": {
      "text/plain": [
       "6"
      ]
     },
     "execution_count": 28,
     "metadata": {},
     "output_type": "execute_result"
    }
   ],
   "source": [
    "np.linalg.matrix_rank(c)"
   ]
  },
  {
   "cell_type": "code",
   "execution_count": 30,
   "id": "9012c36b-04ac-4477-ad9c-b559a340d4df",
   "metadata": {
    "tags": []
   },
   "outputs": [
    {
     "data": {
      "text/plain": [
       "array([ -7., -16., -37.])"
      ]
     },
     "execution_count": 30,
     "metadata": {},
     "output_type": "execute_result"
    }
   ],
   "source": [
    "np.linalg.solve(a,b[1])"
   ]
  },
  {
   "cell_type": "code",
   "execution_count": 32,
   "id": "086ab8f1-ad56-454f-a715-abdd6fab711f",
   "metadata": {
    "tags": []
   },
   "outputs": [
    {
     "data": {
      "text/plain": [
       "array([ -7., -16., -37.])"
      ]
     },
     "execution_count": 32,
     "metadata": {},
     "output_type": "execute_result"
    }
   ],
   "source": [
    "np.linalg.lstsq(a, b[1], rcond=None)[0]"
   ]
  },
  {
   "cell_type": "code",
   "execution_count": 33,
   "id": "f6d0a19f-e3ac-4c62-909e-0920136153d1",
   "metadata": {
    "tags": []
   },
   "outputs": [],
   "source": [
    "import pandas as pd"
   ]
  },
  {
   "cell_type": "code",
   "execution_count": 35,
   "id": "0ce132b8-a0a4-4acd-96c6-f5a63170d018",
   "metadata": {
    "tags": []
   },
   "outputs": [
    {
     "data": {
      "text/html": [
       "<div>\n",
       "<style scoped>\n",
       "    .dataframe tbody tr th:only-of-type {\n",
       "        vertical-align: middle;\n",
       "    }\n",
       "\n",
       "    .dataframe tbody tr th {\n",
       "        vertical-align: top;\n",
       "    }\n",
       "\n",
       "    .dataframe thead th {\n",
       "        text-align: right;\n",
       "    }\n",
       "</style>\n",
       "<table border=\"1\" class=\"dataframe\">\n",
       "  <thead>\n",
       "    <tr style=\"text-align: right;\">\n",
       "      <th></th>\n",
       "      <th>EmployeeNumber</th>\n",
       "      <th>Surname</th>\n",
       "      <th>GivenName</th>\n",
       "      <th>Gender</th>\n",
       "      <th>City</th>\n",
       "      <th>JobTitle</th>\n",
       "      <th>DepartmentName</th>\n",
       "      <th>StoreLocation</th>\n",
       "      <th>Division</th>\n",
       "      <th>Age</th>\n",
       "      <th>LengthService</th>\n",
       "      <th>AbsentHours</th>\n",
       "      <th>BusinessUnit</th>\n",
       "    </tr>\n",
       "  </thead>\n",
       "  <tbody>\n",
       "    <tr>\n",
       "      <th>0</th>\n",
       "      <td>1</td>\n",
       "      <td>Gutierrez</td>\n",
       "      <td>Molly</td>\n",
       "      <td>F</td>\n",
       "      <td>Burnaby</td>\n",
       "      <td>Baker</td>\n",
       "      <td>Bakery</td>\n",
       "      <td>Burnaby</td>\n",
       "      <td>Stores</td>\n",
       "      <td>32.028816</td>\n",
       "      <td>6.018478</td>\n",
       "      <td>36.577306</td>\n",
       "      <td>Stores</td>\n",
       "    </tr>\n",
       "    <tr>\n",
       "      <th>1</th>\n",
       "      <td>2</td>\n",
       "      <td>Hardwick</td>\n",
       "      <td>Stephen</td>\n",
       "      <td>M</td>\n",
       "      <td>Courtenay</td>\n",
       "      <td>Baker</td>\n",
       "      <td>Bakery</td>\n",
       "      <td>Nanaimo</td>\n",
       "      <td>Stores</td>\n",
       "      <td>40.320902</td>\n",
       "      <td>5.532445</td>\n",
       "      <td>30.165072</td>\n",
       "      <td>Stores</td>\n",
       "    </tr>\n",
       "    <tr>\n",
       "      <th>2</th>\n",
       "      <td>3</td>\n",
       "      <td>Delgado</td>\n",
       "      <td>Chester</td>\n",
       "      <td>M</td>\n",
       "      <td>Richmond</td>\n",
       "      <td>Baker</td>\n",
       "      <td>Bakery</td>\n",
       "      <td>Richmond</td>\n",
       "      <td>Stores</td>\n",
       "      <td>48.822047</td>\n",
       "      <td>4.389973</td>\n",
       "      <td>83.807798</td>\n",
       "      <td>Stores</td>\n",
       "    </tr>\n",
       "    <tr>\n",
       "      <th>3</th>\n",
       "      <td>4</td>\n",
       "      <td>Simon</td>\n",
       "      <td>Irene</td>\n",
       "      <td>F</td>\n",
       "      <td>Victoria</td>\n",
       "      <td>Baker</td>\n",
       "      <td>Bakery</td>\n",
       "      <td>Victoria</td>\n",
       "      <td>Stores</td>\n",
       "      <td>44.599357</td>\n",
       "      <td>3.081736</td>\n",
       "      <td>70.020165</td>\n",
       "      <td>Stores</td>\n",
       "    </tr>\n",
       "    <tr>\n",
       "      <th>4</th>\n",
       "      <td>5</td>\n",
       "      <td>Delvalle</td>\n",
       "      <td>Edward</td>\n",
       "      <td>M</td>\n",
       "      <td>New Westminster</td>\n",
       "      <td>Baker</td>\n",
       "      <td>Bakery</td>\n",
       "      <td>New Westminster</td>\n",
       "      <td>Stores</td>\n",
       "      <td>35.697876</td>\n",
       "      <td>3.619091</td>\n",
       "      <td>0.000000</td>\n",
       "      <td>Stores</td>\n",
       "    </tr>\n",
       "    <tr>\n",
       "      <th>...</th>\n",
       "      <td>...</td>\n",
       "      <td>...</td>\n",
       "      <td>...</td>\n",
       "      <td>...</td>\n",
       "      <td>...</td>\n",
       "      <td>...</td>\n",
       "      <td>...</td>\n",
       "      <td>...</td>\n",
       "      <td>...</td>\n",
       "      <td>...</td>\n",
       "      <td>...</td>\n",
       "      <td>...</td>\n",
       "      <td>...</td>\n",
       "    </tr>\n",
       "    <tr>\n",
       "      <th>8331</th>\n",
       "      <td>8332</td>\n",
       "      <td>Coniglio</td>\n",
       "      <td>Bianca</td>\n",
       "      <td>F</td>\n",
       "      <td>Langley</td>\n",
       "      <td>Cashier</td>\n",
       "      <td>Customer Service</td>\n",
       "      <td>Langley</td>\n",
       "      <td>Stores</td>\n",
       "      <td>46.057544</td>\n",
       "      <td>4.838288</td>\n",
       "      <td>93.665111</td>\n",
       "      <td>Stores</td>\n",
       "    </tr>\n",
       "    <tr>\n",
       "      <th>8332</th>\n",
       "      <td>8333</td>\n",
       "      <td>Cox</td>\n",
       "      <td>Jimmie</td>\n",
       "      <td>M</td>\n",
       "      <td>Montney</td>\n",
       "      <td>Cashier</td>\n",
       "      <td>Customer Service</td>\n",
       "      <td>Fort St John</td>\n",
       "      <td>Stores</td>\n",
       "      <td>34.455490</td>\n",
       "      <td>2.427274</td>\n",
       "      <td>0.000000</td>\n",
       "      <td>Stores</td>\n",
       "    </tr>\n",
       "    <tr>\n",
       "      <th>8333</th>\n",
       "      <td>8334</td>\n",
       "      <td>Hawkins</td>\n",
       "      <td>Mary</td>\n",
       "      <td>F</td>\n",
       "      <td>West Vancouver</td>\n",
       "      <td>Cashier</td>\n",
       "      <td>Customer Service</td>\n",
       "      <td>West Vancouver</td>\n",
       "      <td>Stores</td>\n",
       "      <td>58.347160</td>\n",
       "      <td>4.009393</td>\n",
       "      <td>176.356940</td>\n",
       "      <td>Stores</td>\n",
       "    </tr>\n",
       "    <tr>\n",
       "      <th>8334</th>\n",
       "      <td>8335</td>\n",
       "      <td>Proctor</td>\n",
       "      <td>Theresa</td>\n",
       "      <td>F</td>\n",
       "      <td>Vancouver</td>\n",
       "      <td>Dairy Person</td>\n",
       "      <td>Dairy</td>\n",
       "      <td>Vancouver</td>\n",
       "      <td>Stores</td>\n",
       "      <td>43.340616</td>\n",
       "      <td>6.154837</td>\n",
       "      <td>60.321917</td>\n",
       "      <td>Stores</td>\n",
       "    </tr>\n",
       "    <tr>\n",
       "      <th>8335</th>\n",
       "      <td>8336</td>\n",
       "      <td>Salter</td>\n",
       "      <td>Charles</td>\n",
       "      <td>M</td>\n",
       "      <td>Vancouver</td>\n",
       "      <td>Dairy Person</td>\n",
       "      <td>Dairy</td>\n",
       "      <td>Vancouver</td>\n",
       "      <td>Stores</td>\n",
       "      <td>46.192782</td>\n",
       "      <td>5.174722</td>\n",
       "      <td>112.023389</td>\n",
       "      <td>Stores</td>\n",
       "    </tr>\n",
       "  </tbody>\n",
       "</table>\n",
       "<p>8336 rows × 13 columns</p>\n",
       "</div>"
      ],
      "text/plain": [
       "      EmployeeNumber    Surname GivenName Gender             City  \\\n",
       "0                  1  Gutierrez     Molly      F          Burnaby   \n",
       "1                  2   Hardwick   Stephen      M        Courtenay   \n",
       "2                  3    Delgado   Chester      M         Richmond   \n",
       "3                  4      Simon     Irene      F         Victoria   \n",
       "4                  5   Delvalle    Edward      M  New Westminster   \n",
       "...              ...        ...       ...    ...              ...   \n",
       "8331            8332   Coniglio    Bianca      F          Langley   \n",
       "8332            8333        Cox    Jimmie      M          Montney   \n",
       "8333            8334    Hawkins      Mary      F   West Vancouver   \n",
       "8334            8335    Proctor   Theresa      F        Vancouver   \n",
       "8335            8336     Salter   Charles      M        Vancouver   \n",
       "\n",
       "          JobTitle    DepartmentName    StoreLocation Division        Age  \\\n",
       "0            Baker            Bakery          Burnaby   Stores  32.028816   \n",
       "1            Baker            Bakery          Nanaimo   Stores  40.320902   \n",
       "2            Baker            Bakery         Richmond   Stores  48.822047   \n",
       "3            Baker            Bakery         Victoria   Stores  44.599357   \n",
       "4            Baker            Bakery  New Westminster   Stores  35.697876   \n",
       "...            ...               ...              ...      ...        ...   \n",
       "8331       Cashier  Customer Service          Langley   Stores  46.057544   \n",
       "8332       Cashier  Customer Service     Fort St John   Stores  34.455490   \n",
       "8333       Cashier  Customer Service   West Vancouver   Stores  58.347160   \n",
       "8334  Dairy Person             Dairy        Vancouver   Stores  43.340616   \n",
       "8335  Dairy Person             Dairy        Vancouver   Stores  46.192782   \n",
       "\n",
       "      LengthService  AbsentHours BusinessUnit  \n",
       "0          6.018478    36.577306       Stores  \n",
       "1          5.532445    30.165072       Stores  \n",
       "2          4.389973    83.807798       Stores  \n",
       "3          3.081736    70.020165       Stores  \n",
       "4          3.619091     0.000000       Stores  \n",
       "...             ...          ...          ...  \n",
       "8331       4.838288    93.665111       Stores  \n",
       "8332       2.427274     0.000000       Stores  \n",
       "8333       4.009393   176.356940       Stores  \n",
       "8334       6.154837    60.321917       Stores  \n",
       "8335       5.174722   112.023389       Stores  \n",
       "\n",
       "[8336 rows x 13 columns]"
      ]
     },
     "execution_count": 35,
     "metadata": {},
     "output_type": "execute_result"
    }
   ],
   "source": [
    "df = pd.read_csv('absent_employees.csv')\n",
    "df"
   ]
  },
  {
   "cell_type": "code",
   "execution_count": 36,
   "id": "4a19dd11-39eb-4d36-ba9c-edd6de861b6a",
   "metadata": {
    "tags": []
   },
   "outputs": [
    {
     "name": "stdout",
     "output_type": "stream",
     "text": [
      "<class 'pandas.core.frame.DataFrame'>\n",
      "RangeIndex: 8336 entries, 0 to 8335\n",
      "Data columns (total 13 columns):\n",
      " #   Column          Non-Null Count  Dtype  \n",
      "---  ------          --------------  -----  \n",
      " 0   EmployeeNumber  8336 non-null   int64  \n",
      " 1   Surname         8336 non-null   object \n",
      " 2   GivenName       8336 non-null   object \n",
      " 3   Gender          8336 non-null   object \n",
      " 4   City            8336 non-null   object \n",
      " 5   JobTitle        8336 non-null   object \n",
      " 6   DepartmentName  8336 non-null   object \n",
      " 7   StoreLocation   8336 non-null   object \n",
      " 8   Division        8336 non-null   object \n",
      " 9   Age             8336 non-null   float64\n",
      " 10  LengthService   8336 non-null   float64\n",
      " 11  AbsentHours     8336 non-null   float64\n",
      " 12  BusinessUnit    8336 non-null   object \n",
      "dtypes: float64(3), int64(1), object(9)\n",
      "memory usage: 846.8+ KB\n"
     ]
    }
   ],
   "source": [
    "df.info()"
   ]
  },
  {
   "cell_type": "code",
   "execution_count": 40,
   "id": "da5ba133-2dcb-4e87-b930-978b093f432c",
   "metadata": {
    "tags": []
   },
   "outputs": [
    {
     "data": {
      "text/plain": [
       "EmployeeNumber    0\n",
       "Surname           0\n",
       "GivenName         0\n",
       "Gender            0\n",
       "City              0\n",
       "JobTitle          0\n",
       "DepartmentName    0\n",
       "StoreLocation     0\n",
       "Division          0\n",
       "Age               0\n",
       "LengthService     0\n",
       "AbsentHours       0\n",
       "BusinessUnit      0\n",
       "dtype: int64"
      ]
     },
     "execution_count": 40,
     "metadata": {},
     "output_type": "execute_result"
    }
   ],
   "source": [
    "df.isna().sum()"
   ]
  },
  {
   "cell_type": "code",
   "execution_count": 45,
   "id": "c1a8eb49-86cd-437a-8940-5d0c0435eb16",
   "metadata": {
    "tags": []
   },
   "outputs": [
    {
     "data": {
      "text/plain": [
       "6"
      ]
     },
     "execution_count": 45,
     "metadata": {},
     "output_type": "execute_result"
    }
   ],
   "source": [
    "df['Division'].nunique()\n",
    "#df['Division'].unique()"
   ]
  },
  {
   "cell_type": "code",
   "execution_count": 51,
   "id": "931c134c-d85b-4c26-b0df-fcbcd58c63dd",
   "metadata": {
    "tags": []
   },
   "outputs": [
    {
     "data": {
      "text/html": [
       "<div>\n",
       "<style scoped>\n",
       "    .dataframe tbody tr th:only-of-type {\n",
       "        vertical-align: middle;\n",
       "    }\n",
       "\n",
       "    .dataframe tbody tr th {\n",
       "        vertical-align: top;\n",
       "    }\n",
       "\n",
       "    .dataframe thead th {\n",
       "        text-align: right;\n",
       "    }\n",
       "</style>\n",
       "<table border=\"1\" class=\"dataframe\">\n",
       "  <thead>\n",
       "    <tr style=\"text-align: right;\">\n",
       "      <th></th>\n",
       "      <th>Surname</th>\n",
       "      <th>GivenName</th>\n",
       "      <th>AbsentHours</th>\n",
       "    </tr>\n",
       "  </thead>\n",
       "  <tbody>\n",
       "    <tr>\n",
       "      <th>304</th>\n",
       "      <td>Ingram</td>\n",
       "      <td>Kenneth</td>\n",
       "      <td>83.183897</td>\n",
       "    </tr>\n",
       "    <tr>\n",
       "      <th>329</th>\n",
       "      <td>Gonzalez</td>\n",
       "      <td>Rodney</td>\n",
       "      <td>44.969317</td>\n",
       "    </tr>\n",
       "    <tr>\n",
       "      <th>357</th>\n",
       "      <td>Booth</td>\n",
       "      <td>Blanca</td>\n",
       "      <td>120.294309</td>\n",
       "    </tr>\n",
       "    <tr>\n",
       "      <th>365</th>\n",
       "      <td>Hurlburt</td>\n",
       "      <td>Robert</td>\n",
       "      <td>115.602710</td>\n",
       "    </tr>\n",
       "    <tr>\n",
       "      <th>374</th>\n",
       "      <td>Myers</td>\n",
       "      <td>Patrick</td>\n",
       "      <td>96.668445</td>\n",
       "    </tr>\n",
       "    <tr>\n",
       "      <th>...</th>\n",
       "      <td>...</td>\n",
       "      <td>...</td>\n",
       "      <td>...</td>\n",
       "    </tr>\n",
       "    <tr>\n",
       "      <th>8328</th>\n",
       "      <td>Sheaffer</td>\n",
       "      <td>Cheryl</td>\n",
       "      <td>40.367062</td>\n",
       "    </tr>\n",
       "    <tr>\n",
       "      <th>8329</th>\n",
       "      <td>Pointer</td>\n",
       "      <td>Ronald</td>\n",
       "      <td>49.226319</td>\n",
       "    </tr>\n",
       "    <tr>\n",
       "      <th>8331</th>\n",
       "      <td>Coniglio</td>\n",
       "      <td>Bianca</td>\n",
       "      <td>93.665111</td>\n",
       "    </tr>\n",
       "    <tr>\n",
       "      <th>8332</th>\n",
       "      <td>Cox</td>\n",
       "      <td>Jimmie</td>\n",
       "      <td>0.000000</td>\n",
       "    </tr>\n",
       "    <tr>\n",
       "      <th>8333</th>\n",
       "      <td>Hawkins</td>\n",
       "      <td>Mary</td>\n",
       "      <td>176.356940</td>\n",
       "    </tr>\n",
       "  </tbody>\n",
       "</table>\n",
       "<p>1703 rows × 3 columns</p>\n",
       "</div>"
      ],
      "text/plain": [
       "       Surname GivenName  AbsentHours\n",
       "304     Ingram   Kenneth    83.183897\n",
       "329   Gonzalez    Rodney    44.969317\n",
       "357      Booth    Blanca   120.294309\n",
       "365   Hurlburt    Robert   115.602710\n",
       "374      Myers   Patrick    96.668445\n",
       "...        ...       ...          ...\n",
       "8328  Sheaffer    Cheryl    40.367062\n",
       "8329   Pointer    Ronald    49.226319\n",
       "8331  Coniglio    Bianca    93.665111\n",
       "8332       Cox    Jimmie     0.000000\n",
       "8333   Hawkins      Mary   176.356940\n",
       "\n",
       "[1703 rows x 3 columns]"
      ]
     },
     "execution_count": 51,
     "metadata": {},
     "output_type": "execute_result"
    }
   ],
   "source": [
    "a = df[df['JobTitle'] == 'Cashier'][['Surname','GivenName','AbsentHours']]\n",
    "a"
   ]
  },
  {
   "cell_type": "code",
   "execution_count": 58,
   "id": "4a92003c-6518-4aa8-975a-bd82be81c903",
   "metadata": {
    "tags": []
   },
   "outputs": [
    {
     "data": {
      "text/plain": [
       "952"
      ]
     },
     "execution_count": 58,
     "metadata": {},
     "output_type": "execute_result"
    }
   ],
   "source": [
    "a[a['AbsentHours'] > 50].shape[0]"
   ]
  },
  {
   "cell_type": "code",
   "execution_count": 59,
   "id": "18f53673-e6cb-4d3c-a224-3d04ec174a7a",
   "metadata": {
    "tags": []
   },
   "outputs": [
    {
     "data": {
      "text/plain": [
       "63.08351127019613"
      ]
     },
     "execution_count": 59,
     "metadata": {},
     "output_type": "execute_result"
    }
   ],
   "source": [
    "a['AbsentHours'].mean()"
   ]
  },
  {
   "cell_type": "code",
   "execution_count": 66,
   "id": "8b87c2e4-cdce-4de3-874b-4e748fe1efc7",
   "metadata": {
    "tags": []
   },
   "outputs": [
    {
     "data": {
      "text/plain": [
       "JobTitle\n",
       "Director, Recruitment              33.854700\n",
       "VP Finance                         35.136310\n",
       "Exec Assistant, Finance            35.402630\n",
       "CHief Information Officer          35.446120\n",
       "Exec Assistant, Human Resources    35.902257\n",
       "Director, Accounts Payable         36.481140\n",
       "Director, Investments              39.243770\n",
       "Store Manager                      39.790871\n",
       "Processed Foods Manager            39.879662\n",
       "Produce Manager                    40.370572\n",
       "Director, Compensation             41.139160\n",
       "Bakery Manager                     41.395024\n",
       "Meat Cutter                        41.400078\n",
       "Accounts Receiveable Clerk         41.448688\n",
       "Corporate Lawyer                   41.459083\n",
       "Legal Counsel                      41.503335\n",
       "Produce Clerk                      41.665687\n",
       "Accounting Clerk                   41.790024\n",
       "Baker                              41.977676\n",
       "Dairy Person                       42.094596\n",
       "Cashier                            42.209101\n",
       "Customer Service Manager           42.308373\n",
       "Systems Analyst                    42.417913\n",
       "Shelf Stocker                      42.426955\n",
       "Accounts Payable Clerk             42.915186\n",
       "Meats Manager                      43.577613\n",
       "VP Human Resources                 44.527280\n",
       "Compensation Analyst               44.950788\n",
       "Auditor                            45.101272\n",
       "VP Stores                          46.189830\n",
       "Exec Assistant, VP Stores          47.921970\n",
       "Investment Analyst                 48.907798\n",
       "Director, Training                 49.163560\n",
       "Director, Accounting               49.603270\n",
       "HRIS Analyst                       49.868622\n",
       "Benefits Admin                     50.044829\n",
       "Trainer                            50.290076\n",
       "Recruiter                          50.294755\n",
       "Labor Relations Analyst            50.508125\n",
       "Director, Employee Records         51.243750\n",
       "Exec Assistant, Legal Counsel      54.316620\n",
       "Director, Accounts Receivable      54.672260\n",
       "Director, Labor Relations          57.335691\n",
       "Director, Audit                    57.447349\n",
       "Director, HR Technology            57.632310\n",
       "CEO                                58.725810\n",
       "Dairy Manager                      62.297167\n",
       "Name: Age, dtype: float64"
      ]
     },
     "execution_count": 66,
     "metadata": {},
     "output_type": "execute_result"
    }
   ],
   "source": [
    "df.groupby('JobTitle')['Age'].mean().sort_values()"
   ]
  },
  {
   "cell_type": "code",
   "execution_count": 71,
   "id": "26775b8a-98c0-4e17-98ca-2c3d4f1447a7",
   "metadata": {
    "tags": []
   },
   "outputs": [
    {
     "name": "stdout",
     "output_type": "stream",
     "text": [
      "det_S(1) =0.0\n",
      "det_S(2) =1.0\n",
      "det_S(3) =0.0\n",
      "det_S(4) =1.0\n",
      "det_S(5) =0.0\n",
      "det_S(6) =1.0\n",
      "det_S(7) =0.0\n",
      "det_S(8) =1.0\n",
      "det_S(9) =0.0\n",
      "det_S(10) =1.0\n",
      "det_S(11) =0.0\n",
      "det_S(12) =1.0\n",
      "det_S(13) =0.0\n",
      "det_S(14) =0.9999999999999996\n",
      "det_S(15) =0.0\n",
      "det_S(16) =1.0\n",
      "det_S(17) =0.0\n",
      "det_S(18) =1.0\n",
      "det_S(19) =0.0\n",
      "det_S(20) =1.0000000000000009\n"
     ]
    }
   ],
   "source": [
    "# Bai 2: \n",
    "import numpy as np\n",
    "a = np.array([[1,0,0],[-1,1,0],[0,-1,1]])\n",
    "s = np.identity(3)\n",
    "for i in range(1,21):\n",
    "    s += ((-1)**i)*np.linalg.matrix_power(a,i)\n",
    "    print(f'det_S({i}) ={np.linalg.det(s)}')"
   ]
  },
  {
   "cell_type": "code",
   "execution_count": 78,
   "id": "288c267a-88df-498b-bf36-4063f3595325",
   "metadata": {
    "tags": []
   },
   "outputs": [],
   "source": [
    "import pandas as pd\n",
    "df = pd.read_excel('testcar_2022.xlsx')"
   ]
  },
  {
   "cell_type": "code",
   "execution_count": 79,
   "id": "1ba43da5-c908-4c91-b635-f2445f6541eb",
   "metadata": {
    "tags": []
   },
   "outputs": [
    {
     "data": {
      "text/html": [
       "<div>\n",
       "<style scoped>\n",
       "    .dataframe tbody tr th:only-of-type {\n",
       "        vertical-align: middle;\n",
       "    }\n",
       "\n",
       "    .dataframe tbody tr th {\n",
       "        vertical-align: top;\n",
       "    }\n",
       "\n",
       "    .dataframe thead th {\n",
       "        text-align: right;\n",
       "    }\n",
       "</style>\n",
       "<table border=\"1\" class=\"dataframe\">\n",
       "  <thead>\n",
       "    <tr style=\"text-align: right;\">\n",
       "      <th></th>\n",
       "      <th>Vehicle Manufacturer Name</th>\n",
       "      <th>Veh Mfr Code</th>\n",
       "      <th>Vehicle Type</th>\n",
       "      <th>Rated Horsepower</th>\n",
       "      <th># of Cylinders and Rotors</th>\n",
       "      <th># of Gears</th>\n",
       "      <th>Equivalent Test Weight (lbs.)</th>\n",
       "      <th>CO (g/mi)</th>\n",
       "      <th>CO2 (g/mi)</th>\n",
       "      <th>NOx (g/mi)</th>\n",
       "    </tr>\n",
       "  </thead>\n",
       "  <tbody>\n",
       "    <tr>\n",
       "      <th>0</th>\n",
       "      <td>aston martin</td>\n",
       "      <td>ASX</td>\n",
       "      <td>Car</td>\n",
       "      <td>503</td>\n",
       "      <td>8.0</td>\n",
       "      <td>8</td>\n",
       "      <td>4500</td>\n",
       "      <td>0.070000</td>\n",
       "      <td>386.660000</td>\n",
       "      <td>0.029000</td>\n",
       "    </tr>\n",
       "    <tr>\n",
       "      <th>1</th>\n",
       "      <td>aston martin</td>\n",
       "      <td>ASX</td>\n",
       "      <td>Car</td>\n",
       "      <td>503</td>\n",
       "      <td>8.0</td>\n",
       "      <td>8</td>\n",
       "      <td>4500</td>\n",
       "      <td>0.030000</td>\n",
       "      <td>259.740000</td>\n",
       "      <td>0.002000</td>\n",
       "    </tr>\n",
       "    <tr>\n",
       "      <th>2</th>\n",
       "      <td>aston martin</td>\n",
       "      <td>ASX</td>\n",
       "      <td>Car</td>\n",
       "      <td>715</td>\n",
       "      <td>12.0</td>\n",
       "      <td>8</td>\n",
       "      <td>4500</td>\n",
       "      <td>0.984800</td>\n",
       "      <td>499.690000</td>\n",
       "      <td>0.026200</td>\n",
       "    </tr>\n",
       "    <tr>\n",
       "      <th>3</th>\n",
       "      <td>aston martin</td>\n",
       "      <td>ASX</td>\n",
       "      <td>Car</td>\n",
       "      <td>715</td>\n",
       "      <td>12.0</td>\n",
       "      <td>8</td>\n",
       "      <td>4500</td>\n",
       "      <td>0.042500</td>\n",
       "      <td>290.250000</td>\n",
       "      <td>0.007000</td>\n",
       "    </tr>\n",
       "    <tr>\n",
       "      <th>4</th>\n",
       "      <td>aston martin</td>\n",
       "      <td>ASX</td>\n",
       "      <td>Both</td>\n",
       "      <td>550</td>\n",
       "      <td>8.0</td>\n",
       "      <td>9</td>\n",
       "      <td>5500</td>\n",
       "      <td>0.120000</td>\n",
       "      <td>521.260000</td>\n",
       "      <td>0.009000</td>\n",
       "    </tr>\n",
       "    <tr>\n",
       "      <th>...</th>\n",
       "      <td>...</td>\n",
       "      <td>...</td>\n",
       "      <td>...</td>\n",
       "      <td>...</td>\n",
       "      <td>...</td>\n",
       "      <td>...</td>\n",
       "      <td>...</td>\n",
       "      <td>...</td>\n",
       "      <td>...</td>\n",
       "      <td>...</td>\n",
       "    </tr>\n",
       "    <tr>\n",
       "      <th>4392</th>\n",
       "      <td>Volvo</td>\n",
       "      <td>VVX</td>\n",
       "      <td>Both</td>\n",
       "      <td>312</td>\n",
       "      <td>4.0</td>\n",
       "      <td>8</td>\n",
       "      <td>5500</td>\n",
       "      <td>0.330000</td>\n",
       "      <td>257.000000</td>\n",
       "      <td>0.005000</td>\n",
       "    </tr>\n",
       "    <tr>\n",
       "      <th>4393</th>\n",
       "      <td>Volvo</td>\n",
       "      <td>VVX</td>\n",
       "      <td>Both</td>\n",
       "      <td>312</td>\n",
       "      <td>4.0</td>\n",
       "      <td>8</td>\n",
       "      <td>5500</td>\n",
       "      <td>NaN</td>\n",
       "      <td>NaN</td>\n",
       "      <td>NaN</td>\n",
       "    </tr>\n",
       "    <tr>\n",
       "      <th>4394</th>\n",
       "      <td>Volvo</td>\n",
       "      <td>VVX</td>\n",
       "      <td>Both</td>\n",
       "      <td>312</td>\n",
       "      <td>4.0</td>\n",
       "      <td>8</td>\n",
       "      <td>5500</td>\n",
       "      <td>NaN</td>\n",
       "      <td>NaN</td>\n",
       "      <td>NaN</td>\n",
       "    </tr>\n",
       "    <tr>\n",
       "      <th>4395</th>\n",
       "      <td>Volvo</td>\n",
       "      <td>VVX</td>\n",
       "      <td>Both</td>\n",
       "      <td>312</td>\n",
       "      <td>4.0</td>\n",
       "      <td>8</td>\n",
       "      <td>5500</td>\n",
       "      <td>0.393966</td>\n",
       "      <td>268.406342</td>\n",
       "      <td>0.002597</td>\n",
       "    </tr>\n",
       "    <tr>\n",
       "      <th>4396</th>\n",
       "      <td>Volvo</td>\n",
       "      <td>VVX</td>\n",
       "      <td>Both</td>\n",
       "      <td>312</td>\n",
       "      <td>4.0</td>\n",
       "      <td>8</td>\n",
       "      <td>5500</td>\n",
       "      <td>0.440205</td>\n",
       "      <td>227.449936</td>\n",
       "      <td>0.000000</td>\n",
       "    </tr>\n",
       "  </tbody>\n",
       "</table>\n",
       "<p>4397 rows × 10 columns</p>\n",
       "</div>"
      ],
      "text/plain": [
       "     Vehicle Manufacturer Name Veh Mfr Code Vehicle Type  Rated Horsepower  \\\n",
       "0                 aston martin          ASX          Car               503   \n",
       "1                 aston martin          ASX          Car               503   \n",
       "2                 aston martin          ASX          Car               715   \n",
       "3                 aston martin          ASX          Car               715   \n",
       "4                 aston martin          ASX         Both               550   \n",
       "...                        ...          ...          ...               ...   \n",
       "4392                     Volvo          VVX         Both               312   \n",
       "4393                     Volvo          VVX         Both               312   \n",
       "4394                     Volvo          VVX         Both               312   \n",
       "4395                     Volvo          VVX         Both               312   \n",
       "4396                     Volvo          VVX         Both               312   \n",
       "\n",
       "      # of Cylinders and Rotors  # of Gears  Equivalent Test Weight (lbs.)  \\\n",
       "0                           8.0           8                           4500   \n",
       "1                           8.0           8                           4500   \n",
       "2                          12.0           8                           4500   \n",
       "3                          12.0           8                           4500   \n",
       "4                           8.0           9                           5500   \n",
       "...                         ...         ...                            ...   \n",
       "4392                        4.0           8                           5500   \n",
       "4393                        4.0           8                           5500   \n",
       "4394                        4.0           8                           5500   \n",
       "4395                        4.0           8                           5500   \n",
       "4396                        4.0           8                           5500   \n",
       "\n",
       "      CO (g/mi)  CO2 (g/mi)  NOx (g/mi)  \n",
       "0      0.070000  386.660000    0.029000  \n",
       "1      0.030000  259.740000    0.002000  \n",
       "2      0.984800  499.690000    0.026200  \n",
       "3      0.042500  290.250000    0.007000  \n",
       "4      0.120000  521.260000    0.009000  \n",
       "...         ...         ...         ...  \n",
       "4392   0.330000  257.000000    0.005000  \n",
       "4393        NaN         NaN         NaN  \n",
       "4394        NaN         NaN         NaN  \n",
       "4395   0.393966  268.406342    0.002597  \n",
       "4396   0.440205  227.449936    0.000000  \n",
       "\n",
       "[4397 rows x 10 columns]"
      ]
     },
     "execution_count": 79,
     "metadata": {},
     "output_type": "execute_result"
    }
   ],
   "source": [
    "df"
   ]
  },
  {
   "cell_type": "code",
   "execution_count": 80,
   "id": "70a524dc-1795-4fda-8cb0-957ae3fa1f57",
   "metadata": {
    "tags": []
   },
   "outputs": [
    {
     "name": "stdout",
     "output_type": "stream",
     "text": [
      "<class 'pandas.core.frame.DataFrame'>\n",
      "RangeIndex: 4397 entries, 0 to 4396\n",
      "Data columns (total 10 columns):\n",
      " #   Column                         Non-Null Count  Dtype  \n",
      "---  ------                         --------------  -----  \n",
      " 0   Vehicle Manufacturer Name      4397 non-null   object \n",
      " 1   Veh Mfr Code                   4397 non-null   object \n",
      " 2   Vehicle Type                   4397 non-null   object \n",
      " 3   Rated Horsepower               4397 non-null   int64  \n",
      " 4   # of Cylinders and Rotors      4133 non-null   float64\n",
      " 5   # of Gears                     4397 non-null   int64  \n",
      " 6   Equivalent Test Weight (lbs.)  4397 non-null   int64  \n",
      " 7   CO (g/mi)                      3614 non-null   float64\n",
      " 8   CO2 (g/mi)                     4028 non-null   float64\n",
      " 9   NOx (g/mi)                     3600 non-null   float64\n",
      "dtypes: float64(4), int64(3), object(3)\n",
      "memory usage: 343.6+ KB\n"
     ]
    }
   ],
   "source": [
    "df.info()"
   ]
  },
  {
   "cell_type": "code",
   "execution_count": 82,
   "id": "8c2cf230-c7db-44b7-bf3e-bbf017908cb0",
   "metadata": {
    "tags": []
   },
   "outputs": [
    {
     "data": {
      "text/plain": [
       "Vehicle Manufacturer Name          0\n",
       "Veh Mfr Code                       0\n",
       "Vehicle Type                       0\n",
       "Rated Horsepower                   0\n",
       "# of Cylinders and Rotors        264\n",
       "# of Gears                         0\n",
       "Equivalent Test Weight (lbs.)      0\n",
       "CO (g/mi)                        783\n",
       "CO2 (g/mi)                       369\n",
       "NOx (g/mi)                       797\n",
       "dtype: int64"
      ]
     },
     "execution_count": 82,
     "metadata": {},
     "output_type": "execute_result"
    }
   ],
   "source": [
    "df.isna().sum()"
   ]
  },
  {
   "cell_type": "code",
   "execution_count": 83,
   "id": "75ca6386-2b6b-4c7a-abb9-6a02bb167111",
   "metadata": {
    "tags": []
   },
   "outputs": [
    {
     "data": {
      "text/html": [
       "<div>\n",
       "<style scoped>\n",
       "    .dataframe tbody tr th:only-of-type {\n",
       "        vertical-align: middle;\n",
       "    }\n",
       "\n",
       "    .dataframe tbody tr th {\n",
       "        vertical-align: top;\n",
       "    }\n",
       "\n",
       "    .dataframe thead th {\n",
       "        text-align: right;\n",
       "    }\n",
       "</style>\n",
       "<table border=\"1\" class=\"dataframe\">\n",
       "  <thead>\n",
       "    <tr style=\"text-align: right;\">\n",
       "      <th></th>\n",
       "      <th>Vehicle Manufacturer Name</th>\n",
       "      <th>Veh Mfr Code</th>\n",
       "      <th>Vehicle Type</th>\n",
       "      <th>Rated Horsepower</th>\n",
       "      <th># of Cylinders and Rotors</th>\n",
       "      <th># of Gears</th>\n",
       "      <th>Equivalent Test Weight (lbs.)</th>\n",
       "      <th>CO (g/mi)</th>\n",
       "      <th>CO2 (g/mi)</th>\n",
       "      <th>NOx (g/mi)</th>\n",
       "    </tr>\n",
       "  </thead>\n",
       "  <tbody>\n",
       "    <tr>\n",
       "      <th>0</th>\n",
       "      <td>aston martin</td>\n",
       "      <td>ASX</td>\n",
       "      <td>Car</td>\n",
       "      <td>503</td>\n",
       "      <td>8.0</td>\n",
       "      <td>8</td>\n",
       "      <td>4500</td>\n",
       "      <td>0.070000</td>\n",
       "      <td>386.660000</td>\n",
       "      <td>0.029000</td>\n",
       "    </tr>\n",
       "    <tr>\n",
       "      <th>1</th>\n",
       "      <td>aston martin</td>\n",
       "      <td>ASX</td>\n",
       "      <td>Car</td>\n",
       "      <td>503</td>\n",
       "      <td>8.0</td>\n",
       "      <td>8</td>\n",
       "      <td>4500</td>\n",
       "      <td>0.030000</td>\n",
       "      <td>259.740000</td>\n",
       "      <td>0.002000</td>\n",
       "    </tr>\n",
       "    <tr>\n",
       "      <th>2</th>\n",
       "      <td>aston martin</td>\n",
       "      <td>ASX</td>\n",
       "      <td>Car</td>\n",
       "      <td>715</td>\n",
       "      <td>12.0</td>\n",
       "      <td>8</td>\n",
       "      <td>4500</td>\n",
       "      <td>0.984800</td>\n",
       "      <td>499.690000</td>\n",
       "      <td>0.026200</td>\n",
       "    </tr>\n",
       "    <tr>\n",
       "      <th>3</th>\n",
       "      <td>aston martin</td>\n",
       "      <td>ASX</td>\n",
       "      <td>Car</td>\n",
       "      <td>715</td>\n",
       "      <td>12.0</td>\n",
       "      <td>8</td>\n",
       "      <td>4500</td>\n",
       "      <td>0.042500</td>\n",
       "      <td>290.250000</td>\n",
       "      <td>0.007000</td>\n",
       "    </tr>\n",
       "    <tr>\n",
       "      <th>4</th>\n",
       "      <td>aston martin</td>\n",
       "      <td>ASX</td>\n",
       "      <td>Both</td>\n",
       "      <td>550</td>\n",
       "      <td>8.0</td>\n",
       "      <td>9</td>\n",
       "      <td>5500</td>\n",
       "      <td>0.120000</td>\n",
       "      <td>521.260000</td>\n",
       "      <td>0.009000</td>\n",
       "    </tr>\n",
       "    <tr>\n",
       "      <th>...</th>\n",
       "      <td>...</td>\n",
       "      <td>...</td>\n",
       "      <td>...</td>\n",
       "      <td>...</td>\n",
       "      <td>...</td>\n",
       "      <td>...</td>\n",
       "      <td>...</td>\n",
       "      <td>...</td>\n",
       "      <td>...</td>\n",
       "      <td>...</td>\n",
       "    </tr>\n",
       "    <tr>\n",
       "      <th>4389</th>\n",
       "      <td>Volvo</td>\n",
       "      <td>VVX</td>\n",
       "      <td>Both</td>\n",
       "      <td>313</td>\n",
       "      <td>4.0</td>\n",
       "      <td>8</td>\n",
       "      <td>5500</td>\n",
       "      <td>0.090000</td>\n",
       "      <td>222.000000</td>\n",
       "      <td>0.002000</td>\n",
       "    </tr>\n",
       "    <tr>\n",
       "      <th>4391</th>\n",
       "      <td>Volvo</td>\n",
       "      <td>VVX</td>\n",
       "      <td>Both</td>\n",
       "      <td>313</td>\n",
       "      <td>4.0</td>\n",
       "      <td>8</td>\n",
       "      <td>5500</td>\n",
       "      <td>0.270000</td>\n",
       "      <td>262.000000</td>\n",
       "      <td>0.004000</td>\n",
       "    </tr>\n",
       "    <tr>\n",
       "      <th>4392</th>\n",
       "      <td>Volvo</td>\n",
       "      <td>VVX</td>\n",
       "      <td>Both</td>\n",
       "      <td>312</td>\n",
       "      <td>4.0</td>\n",
       "      <td>8</td>\n",
       "      <td>5500</td>\n",
       "      <td>0.330000</td>\n",
       "      <td>257.000000</td>\n",
       "      <td>0.005000</td>\n",
       "    </tr>\n",
       "    <tr>\n",
       "      <th>4395</th>\n",
       "      <td>Volvo</td>\n",
       "      <td>VVX</td>\n",
       "      <td>Both</td>\n",
       "      <td>312</td>\n",
       "      <td>4.0</td>\n",
       "      <td>8</td>\n",
       "      <td>5500</td>\n",
       "      <td>0.393966</td>\n",
       "      <td>268.406342</td>\n",
       "      <td>0.002597</td>\n",
       "    </tr>\n",
       "    <tr>\n",
       "      <th>4396</th>\n",
       "      <td>Volvo</td>\n",
       "      <td>VVX</td>\n",
       "      <td>Both</td>\n",
       "      <td>312</td>\n",
       "      <td>4.0</td>\n",
       "      <td>8</td>\n",
       "      <td>5500</td>\n",
       "      <td>0.440205</td>\n",
       "      <td>227.449936</td>\n",
       "      <td>0.000000</td>\n",
       "    </tr>\n",
       "  </tbody>\n",
       "</table>\n",
       "<p>3560 rows × 10 columns</p>\n",
       "</div>"
      ],
      "text/plain": [
       "     Vehicle Manufacturer Name Veh Mfr Code Vehicle Type  Rated Horsepower  \\\n",
       "0                 aston martin          ASX          Car               503   \n",
       "1                 aston martin          ASX          Car               503   \n",
       "2                 aston martin          ASX          Car               715   \n",
       "3                 aston martin          ASX          Car               715   \n",
       "4                 aston martin          ASX         Both               550   \n",
       "...                        ...          ...          ...               ...   \n",
       "4389                     Volvo          VVX         Both               313   \n",
       "4391                     Volvo          VVX         Both               313   \n",
       "4392                     Volvo          VVX         Both               312   \n",
       "4395                     Volvo          VVX         Both               312   \n",
       "4396                     Volvo          VVX         Both               312   \n",
       "\n",
       "      # of Cylinders and Rotors  # of Gears  Equivalent Test Weight (lbs.)  \\\n",
       "0                           8.0           8                           4500   \n",
       "1                           8.0           8                           4500   \n",
       "2                          12.0           8                           4500   \n",
       "3                          12.0           8                           4500   \n",
       "4                           8.0           9                           5500   \n",
       "...                         ...         ...                            ...   \n",
       "4389                        4.0           8                           5500   \n",
       "4391                        4.0           8                           5500   \n",
       "4392                        4.0           8                           5500   \n",
       "4395                        4.0           8                           5500   \n",
       "4396                        4.0           8                           5500   \n",
       "\n",
       "      CO (g/mi)  CO2 (g/mi)  NOx (g/mi)  \n",
       "0      0.070000  386.660000    0.029000  \n",
       "1      0.030000  259.740000    0.002000  \n",
       "2      0.984800  499.690000    0.026200  \n",
       "3      0.042500  290.250000    0.007000  \n",
       "4      0.120000  521.260000    0.009000  \n",
       "...         ...         ...         ...  \n",
       "4389   0.090000  222.000000    0.002000  \n",
       "4391   0.270000  262.000000    0.004000  \n",
       "4392   0.330000  257.000000    0.005000  \n",
       "4395   0.393966  268.406342    0.002597  \n",
       "4396   0.440205  227.449936    0.000000  \n",
       "\n",
       "[3560 rows x 10 columns]"
      ]
     },
     "execution_count": 83,
     "metadata": {},
     "output_type": "execute_result"
    }
   ],
   "source": [
    "df.dropna()"
   ]
  },
  {
   "cell_type": "code",
   "execution_count": 85,
   "id": "dae2c460-371f-4849-a886-b4d854cbc51b",
   "metadata": {
    "tags": []
   },
   "outputs": [
    {
     "data": {
      "text/plain": [
       "array(['aston martin', 'BMW', 'FCA US LLC', 'Ferrari', 'FOMOCO', 'GM',\n",
       "       'Honda', 'Hyundai', 'Jaguar Land Rover L', 'Karma Automotive, L',\n",
       "       'Kia', 'Lucid USA, Inc', 'Maserati', 'MAZDA',\n",
       "       'McLaren Automotive ', 'Mercedes-Benz', 'Mitsubishi Motors Co',\n",
       "       'Nissan', 'Porsche', 'Rivian Automotive L', 'Rolls-Royce',\n",
       "       'Subaru', 'Tesla', 'Toyota', 'Volkswagen Group of', 'Volvo'],\n",
       "      dtype=object)"
      ]
     },
     "execution_count": 85,
     "metadata": {},
     "output_type": "execute_result"
    }
   ],
   "source": [
    "df['Vehicle Manufacturer Name'].unique()"
   ]
  },
  {
   "cell_type": "code",
   "execution_count": 87,
   "id": "acf82a67-521f-4fe4-ae7a-07994441d6ea",
   "metadata": {
    "tags": []
   },
   "outputs": [
    {
     "data": {
      "text/plain": [
       "Vehicle Manufacturer Name\n",
       "BMW                                 [4.0, nan, 6.0, 8.0, 12.0, 3.0]\n",
       "FCA US LLC                                          [6.0, 4.0, 8.0]\n",
       "FOMOCO                                    [6.0, 4.0, 3.0, 8.0, nan]\n",
       "Ferrari                                            [6.0, 12.0, 8.0]\n",
       "GM                                        [4.0, 3.0, 6.0, 8.0, nan]\n",
       "Honda                                                    [4.0, 6.0]\n",
       "Hyundai                                        [6.0, 4.0, 8.0, nan]\n",
       "Jaguar Land Rover L                            [4.0, 8.0, 6.0, nan]\n",
       "Karma Automotive, L                                           [3.0]\n",
       "Kia                                                 [6.0, nan, 4.0]\n",
       "Lucid USA, Inc                                                [nan]\n",
       "MAZDA                                                    [4.0, nan]\n",
       "Maserati                                                 [6.0, 8.0]\n",
       "McLaren Automotive                                       [8.0, 6.0]\n",
       "Mercedes-Benz                                  [4.0, 6.0, nan, 8.0]\n",
       "Mitsubishi Motors Co                                     [4.0, 3.0]\n",
       "Nissan                                    [6.0, 4.0, 8.0, nan, 3.0]\n",
       "Porsche                                        [6.0, 4.0, 8.0, nan]\n",
       "Rivian Automotive L                                           [nan]\n",
       "Rolls-Royce                                                  [12.0]\n",
       "Subaru                                                        [4.0]\n",
       "Tesla                                                         [nan]\n",
       "Toyota                                         [4.0, 6.0, 8.0, nan]\n",
       "Volkswagen Group of     [4.0, 6.0, nan, 10.0, 5.0, 8.0, 12.0, 16.0]\n",
       "Volvo                                                    [nan, 4.0]\n",
       "aston martin                                            [8.0, 12.0]\n",
       "Name: # of Cylinders and Rotors, dtype: object"
      ]
     },
     "execution_count": 87,
     "metadata": {},
     "output_type": "execute_result"
    }
   ],
   "source": [
    "df.groupby('Vehicle Manufacturer Name')['# of Cylinders and Rotors'].unique()"
   ]
  },
  {
   "cell_type": "code",
   "execution_count": 89,
   "id": "68f06906-6ded-4ded-8a6b-fdde5eaafea7",
   "metadata": {
    "tags": []
   },
   "outputs": [],
   "source": [
    "a = df[(df['Vehicle Manufacturer Name']== 'Honda') & (df['Vehicle Type']=='Truck')]"
   ]
  },
  {
   "cell_type": "code",
   "execution_count": 90,
   "id": "e1a3aaef-f518-451a-93ba-89c4237bb776",
   "metadata": {
    "tags": []
   },
   "outputs": [
    {
     "data": {
      "text/plain": [
       "259.175"
      ]
     },
     "execution_count": 90,
     "metadata": {},
     "output_type": "execute_result"
    }
   ],
   "source": [
    "a['Rated Horsepower'].mean()"
   ]
  },
  {
   "cell_type": "code",
   "execution_count": 92,
   "id": "569653b6-3706-453b-b376-2cf57293a516",
   "metadata": {
    "tags": []
   },
   "outputs": [
    {
     "data": {
      "text/plain": [
       "433.65198565217395"
      ]
     },
     "execution_count": 92,
     "metadata": {},
     "output_type": "execute_result"
    }
   ],
   "source": [
    " df[df['Vehicle Manufacturer Name']== 'Ferrari']['CO2 (g/mi)'].mean()"
   ]
  },
  {
   "cell_type": "code",
   "execution_count": 93,
   "id": "56d724b8-9292-439d-a91b-82620bf08f0a",
   "metadata": {
    "tags": []
   },
   "outputs": [
    {
     "data": {
      "text/plain": [
       "407.6805339431596"
      ]
     },
     "execution_count": 93,
     "metadata": {},
     "output_type": "execute_result"
    }
   ],
   "source": [
    "df[df['Vehicle Manufacturer Name']== 'GM']['CO2 (g/mi)'].mean()"
   ]
  },
  {
   "cell_type": "code",
   "execution_count": 97,
   "id": "933e7c31-03da-4259-82d9-80cc35e4b71d",
   "metadata": {
    "tags": []
   },
   "outputs": [
    {
     "data": {
      "text/plain": [
       "array([[5., 3., 0., 0., 0., 0., 0., 0.],\n",
       "       [2., 5., 3., 0., 0., 0., 0., 0.],\n",
       "       [0., 2., 5., 3., 0., 0., 0., 0.],\n",
       "       [0., 0., 2., 5., 3., 0., 0., 0.],\n",
       "       [0., 0., 0., 2., 5., 3., 0., 0.],\n",
       "       [0., 0., 0., 0., 2., 5., 3., 0.],\n",
       "       [0., 0., 0., 0., 0., 2., 5., 3.],\n",
       "       [0., 0., 0., 0., 0., 0., 2., 5.]])"
      ]
     },
     "execution_count": 97,
     "metadata": {},
     "output_type": "execute_result"
    }
   ],
   "source": [
    "import numpy as np\n",
    "a = np.zeros((8,8))\n",
    "for i in range(8):\n",
    "    for j in range(8):\n",
    "        if i == j:\n",
    "            a[i][j] = 5\n",
    "        elif i == j+1:\n",
    "            a[i][j] = 2\n",
    "        elif i == j-1:\n",
    "            a[i][j] = 3\n",
    "        else:\n",
    "            a[i][j] =0\n",
    "a"
   ]
  },
  {
   "cell_type": "code",
   "execution_count": 100,
   "id": "0d0da4d4-a5e6-4c38-8f85-b8f02a3ff708",
   "metadata": {
    "tags": []
   },
   "outputs": [],
   "source": [
    "b = np.array([8,10,10,10,10,10,10,7])"
   ]
  },
  {
   "cell_type": "code",
   "execution_count": 101,
   "id": "cde68fe1-66a7-4ddc-a48d-3abac12c6244",
   "metadata": {
    "tags": []
   },
   "outputs": [
    {
     "data": {
      "text/plain": [
       "array([1., 1., 1., 1., 1., 1., 1., 1.])"
      ]
     },
     "execution_count": 101,
     "metadata": {},
     "output_type": "execute_result"
    }
   ],
   "source": [
    "np.linalg.solve(a,b)"
   ]
  },
  {
   "cell_type": "code",
   "execution_count": 105,
   "id": "4c7d616b-6283-4e0a-a755-7970e6effc1c",
   "metadata": {
    "tags": []
   },
   "outputs": [
    {
     "data": {
      "text/html": [
       "<div>\n",
       "<style scoped>\n",
       "    .dataframe tbody tr th:only-of-type {\n",
       "        vertical-align: middle;\n",
       "    }\n",
       "\n",
       "    .dataframe tbody tr th {\n",
       "        vertical-align: top;\n",
       "    }\n",
       "\n",
       "    .dataframe thead th {\n",
       "        text-align: right;\n",
       "    }\n",
       "</style>\n",
       "<table border=\"1\" class=\"dataframe\">\n",
       "  <thead>\n",
       "    <tr style=\"text-align: right;\">\n",
       "      <th></th>\n",
       "      <th>Year</th>\n",
       "      <th>Fatalities</th>\n",
       "      <th>Resident</th>\n",
       "      <th>Drivers</th>\n",
       "      <th>Vehicles</th>\n",
       "      <th>Miles</th>\n",
       "      <th>Unemployment</th>\n",
       "    </tr>\n",
       "  </thead>\n",
       "  <tbody>\n",
       "    <tr>\n",
       "      <th>0</th>\n",
       "      <td>1966</td>\n",
       "      <td>50894</td>\n",
       "      <td>196560</td>\n",
       "      <td>100998</td>\n",
       "      <td>95703</td>\n",
       "      <td>926</td>\n",
       "      <td>3.8</td>\n",
       "    </tr>\n",
       "    <tr>\n",
       "      <th>1</th>\n",
       "      <td>1967</td>\n",
       "      <td>50724</td>\n",
       "      <td>198712</td>\n",
       "      <td>103172</td>\n",
       "      <td>98859</td>\n",
       "      <td>964</td>\n",
       "      <td>3.8</td>\n",
       "    </tr>\n",
       "    <tr>\n",
       "      <th>2</th>\n",
       "      <td>1968</td>\n",
       "      <td>52725</td>\n",
       "      <td>200706</td>\n",
       "      <td>105410</td>\n",
       "      <td>102987</td>\n",
       "      <td>1016</td>\n",
       "      <td>3.6</td>\n",
       "    </tr>\n",
       "    <tr>\n",
       "      <th>3</th>\n",
       "      <td>1969</td>\n",
       "      <td>53543</td>\n",
       "      <td>202677</td>\n",
       "      <td>108306</td>\n",
       "      <td>107412</td>\n",
       "      <td>1062</td>\n",
       "      <td>3.5</td>\n",
       "    </tr>\n",
       "    <tr>\n",
       "      <th>4</th>\n",
       "      <td>1970</td>\n",
       "      <td>52627</td>\n",
       "      <td>205052</td>\n",
       "      <td>111543</td>\n",
       "      <td>111242</td>\n",
       "      <td>1110</td>\n",
       "      <td>4.9</td>\n",
       "    </tr>\n",
       "  </tbody>\n",
       "</table>\n",
       "</div>"
      ],
      "text/plain": [
       "   Year  Fatalities  Resident  Drivers  Vehicles  Miles  Unemployment\n",
       "0  1966       50894    196560   100998     95703    926           3.8\n",
       "1  1967       50724    198712   103172     98859    964           3.8\n",
       "2  1968       52725    200706   105410    102987   1016           3.6\n",
       "3  1969       53543    202677   108306    107412   1062           3.5\n",
       "4  1970       52627    205052   111543    111242   1110           4.9"
      ]
     },
     "execution_count": 105,
     "metadata": {},
     "output_type": "execute_result"
    }
   ],
   "source": [
    "import pandas as pd\n",
    "df = pd.read_excel('US Vehicle Traffic Fatalities.xlsx')\n",
    "df.head()"
   ]
  },
  {
   "cell_type": "code",
   "execution_count": 108,
   "id": "34b2cc5a-532c-4a92-ae0c-9028db8f3989",
   "metadata": {
    "tags": []
   },
   "outputs": [
    {
     "data": {
      "text/plain": [
       "(61279.79023342789, -0.09294755312817997)"
      ]
     },
     "execution_count": 108,
     "metadata": {},
     "output_type": "execute_result"
    }
   ],
   "source": [
    "y = df['Fatalities']\n",
    "x = df['Vehicles']\n",
    "A = np.vstack([np.ones(len(x)),x]).T\n",
    "b0,b1 = np.linalg.lstsq(A,y, rcond=None)[0]\n",
    "b0,b1"
   ]
  },
  {
   "cell_type": "code",
   "execution_count": 109,
   "id": "11425759-230f-4e4a-b217-88bed4cf153b",
   "metadata": {
    "tags": []
   },
   "outputs": [
    {
     "name": "stdout",
     "output_type": "stream",
     "text": [
      "Hàm hồi quy: Fatalities = 61279.79 + -0.0929 * Vehicles\n"
     ]
    },
    {
     "data": {
      "image/png": "[encoded data removed]",
      "text/plain": [
       "<Figure size 640x480 with 1 Axes>"
      ]
     },
     "metadata": {},
     "output_type": "display_data"
    }
   ],
   "source": [
    "import pandas as pd\n",
    "import matplotlib.pyplot as plt\n",
    "from sklearn.linear_model import LinearRegression\n",
    "\n",
    "# Đọc dữ liệu từ file Excel\n",
    "df = pd.read_excel(\"US Vehicle Traffic Fatalities.xlsx\")\n",
    "\n",
    "# Giả sử các cột tên là 'Vehicles' và 'Fatalities'\n",
    "X = df[['Vehicles']]  # Đưa vào dạng DataFrame\n",
    "y = df['Fatalities']\n",
    "\n",
    "# Tạo mô hình hồi quy tuyến tính\n",
    "model = LinearRegression()\n",
    "model.fit(X, y)\n",
    "\n",
    "# Lấy các hệ số\n",
    "b0 = model.intercept_\n",
    "b1 = model.coef_[0]\n",
    "\n",
    "print(f\"Hàm hồi quy: Fatalities = {b0:.2f} + {b1:.4f} * Vehicles\")\n",
    "\n",
    "# Vẽ đồ thị\n",
    "plt.scatter(df['Vehicles'], df['Fatalities'], color='blue', label='Dữ liệu thực tế')\n",
    "plt.plot(df['Vehicles'], model.predict(X), color='red', label='Hàm hồi quy')\n",
    "plt.xlabel('Vehicles')\n",
    "plt.ylabel('Fatalities')\n",
    "plt.title('Hồi quy tuyến tính: Fatalities theo Vehicles')\n",
    "plt.legend()\n",
    "plt.grid(True)\n",
    "plt.show()\n"
   ]
  },
  {
   "cell_type": "code",
   "execution_count": 110,
   "id": "87258e3d-4ff5-4560-b769-13ec5ee32758",
   "metadata": {
    "tags": []
   },
   "outputs": [
    {
     "data": {
      "image/png": "[encoded data removed]",
      "text/plain": [
       "<Figure size 640x480 with 1 Axes>"
      ]
     },
     "metadata": {},
     "output_type": "display_data"
    }
   ],
   "source": [
    "import matplotlib.pyplot as plt\n",
    "\n",
    "plt.scatter(x, y)\n",
    "plt.plot(x, b0 + b1 * x, color='red')\n",
    "plt.xlabel('Vehicles')\n",
    "plt.ylabel('Fatalities')\n",
    "plt.show()\n"
   ]
  },
  {
   "cell_type": "code",
   "execution_count": 120,
   "id": "715010d9-3f43-4617-8717-a0509f2c9717",
   "metadata": {
    "tags": []
   },
   "outputs": [
    {
     "data": {
      "text/plain": [
       "50.24"
      ]
     },
     "execution_count": 120,
     "metadata": {},
     "output_type": "execute_result"
    }
   ],
   "source": [
    "class ball:\n",
    "    def __init__(sedf,r,m):\n",
    "        sedf.r = int(r)\n",
    "        sedf.m = str(m)\n",
    "    def info(sedf):\n",
    "        return sedf.r,sedf.m\n",
    "    def setm(sedf,x):\n",
    "        m = x\n",
    "    def s(sedf):\n",
    "        return 4*3.14*sedf.r**2\n",
    "    def v(sedf):\n",
    "        return 3/4*3.14*sedf.r**3\n",
    "a = ball(2,'do')\n",
    "a.info()\n",
    "a.s()"
   ]
  },
  {
   "cell_type": "code",
   "execution_count": null,
   "id": "08737da8-53f6-4f6b-b7ca-deda91f24ac4",
   "metadata": {},
   "outputs": [],
   "source": []
  }
 ],
 "metadata": {
  "kernelspec": {
   "display_name": "Python 3 (ipykernel)",
   "language": "python",
   "name": "python3"
  },
  "language_info": {
   "codemirror_mode": {
    "name": "ipython",
    "version": 3
   },
   "file_extension": ".py",
   "mimetype": "text/x-python",
   "name": "python",
   "nbconvert_exporter": "python",
   "pygments_lexer": "ipython3",
   "version": "3.11.5"
  }
 },
 "nbformat": 4,
 "nbformat_minor": 5
}
