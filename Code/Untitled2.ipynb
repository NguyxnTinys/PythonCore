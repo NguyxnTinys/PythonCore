{
 "cells": [
  {
   "cell_type": "code",
   "execution_count": 9,
   "id": "84512200-72da-4a60-8cc5-eece09916e73",
   "metadata": {
    "tags": []
   },
   "outputs": [
    {
     "name": "stdin",
     "output_type": "stream",
     "text": [
      "Nhập chuỗi các từ, phân tách bằng dấu phẩy:  hahahaha,hihi\n"
     ]
    },
    {
     "name": "stdout",
     "output_type": "stream",
     "text": [
      "hahahaha,hihi\n"
     ]
    }
   ],
   "source": [
    "#Bai 1:\n",
    "\n",
    "Nhap = input(\"Nhập chuỗi các từ, phân tách bằng dấu phẩy: \")\n",
    "\n",
    "a = Nhap.split(',')\n",
    "\n",
    "a.sort()\n",
    "\n",
    "Xuat = ','.join(a)\n",
    "\n",
    "# In kết quả\n",
    "print(Xuat)\n"
   ]
  },
  {
   "cell_type": "code",
   "execution_count": 7,
   "id": "aab658ad-edc5-4e22-92ca-ba006ea4a353",
   "metadata": {
    "tags": []
   },
   "outputs": [
    {
     "name": "stdout",
     "output_type": "stream",
     "text": [
      "2008, 2026, 2044, 2062, 2080, 2206, 2224, 2242, 2260, 2288, 2404, 2422, 2440, 2468, 2486, 2602, 2620, 2648, 2666, 2684, 2800, 2828, 2846, 2864, 2882\n"
     ]
    }
   ],
   "source": [
    "#Bai 2:\n",
    "ket_qua = []\n",
    "\n",
    "for so in range(2000, 3002):\n",
    "    chuoi_so = str(so)\n",
    "    \n",
    "    chan = True  \n",
    "    for chu in chuoi_so:  \n",
    "        if int(chu) % 2 != 0: \n",
    "            chan = False  \n",
    "            break  \n",
    "            \n",
    "    if chan:  \n",
    "        tong = 0  \n",
    "        for chu in chuoi_so:  \n",
    "            tong += int(chu)  \n",
    "        if tong % 5 == 0:\n",
    "            ket_qua.append(str(so))\n",
    "\n",
    "print(\", \".join(ket_qua))\n"
   ]
  },
  {
   "cell_type": "code",
   "execution_count": 15,
   "id": "37589324-afe7-46a2-acab-998a014a21d7",
   "metadata": {
    "tags": []
   },
   "outputs": [
    {
     "name": "stdin",
     "output_type": "stream",
     "text": [
      "Nhập một câu:  kimhoa123\n"
     ]
    },
    {
     "name": "stdout",
     "output_type": "stream",
     "text": [
      "Số chữ cái là: 6\n",
      "Số chữ số là: 3\n"
     ]
    }
   ],
   "source": [
    "# Bai 3:\n",
    "\n",
    "chuoi = input(\"Nhập một câu:\")\n",
    "\n",
    "so_chu_cai = 0\n",
    "so_chu_so = 0\n",
    "\n",
    "for ky_tu in chuoi:\n",
    "    if ('A' <= ky_tu <= 'Z') or ('a' <= ky_tu <= 'z'):\n",
    "        so_chu_cai += 1\n",
    "for ky_tu in chuoi: \n",
    "    if '0' <= ky_tu <= '9':\n",
    "        so_chu_so += 1\n",
    "\n",
    "print(f\"Số chữ cái là: {so_chu_cai}\")\n",
    "print(f\"Số chữ số là: {so_chu_so}\")\n"
   ]
  },
  {
   "cell_type": "code",
   "execution_count": 23,
   "id": "c80a37d0-7a26-4bab-b0da-5e422f4c7bf5",
   "metadata": {
    "tags": []
   },
   "outputs": [
    {
     "name": "stdin",
     "output_type": "stream",
     "text": [
      "Nhập họ tên sinh viên (Nhấn Enter để dừng):  Hoa \n",
      "Nhập điểm của Hoa:  10\n",
      "Nhập họ tên sinh viên (Nhấn Enter để dừng):  ha \n",
      "Nhập điểm của ha:  9\n",
      "Nhập họ tên sinh viên (Nhấn Enter để dừng):  \n"
     ]
    },
    {
     "name": "stdout",
     "output_type": "stream",
     "text": [
      "\n",
      "Danh sách sinh viên sau khi sắp xếp:\n",
      "ha: 9.0\n",
      "Hoa: 10.0\n"
     ]
    }
   ],
   "source": [
    "# Bai 4:\n",
    "def lay_diem(item): \n",
    "    return item[1]  \n",
    "\n",
    "sinh_vien = {}\n",
    "\n",
    "while True:\n",
    "    ho_ten = input(\"Nhập họ tên sinh viên (Nhấn Enter để dừng): \").strip()\n",
    "    if ho_ten == \"\":\n",
    "        break\n",
    "    \n",
    "    try:\n",
    "        diem_sv = float(input(f\"Nhập điểm của {ho_ten}: \"))\n",
    "        sinh_vien[ho_ten] = diem_sv  \n",
    "    except ValueError:\n",
    "        print(\"Lỗi: Điểm phải là số. Vui lòng nhập lại!\")\n",
    "\n",
    "sap_xep = sorted(sinh_vien.items(), key=lay_diem)  \n",
    "\n",
    "print(\"\\nDanh sách sinh viên sau khi sắp xếp:\")\n",
    "for ho_ten, diem_sv in sap_xep:\n",
    "    print(f\"{ho_ten}: {diem_sv}\")\n"
   ]
  },
  {
   "cell_type": "code",
   "execution_count": 44,
   "id": "553fe18b-5544-401c-9946-4cbf7273053c",
   "metadata": {
    "tags": []
   },
   "outputs": [
    {
     "name": "stdout",
     "output_type": "stream",
     "text": [
      "Tổng Riemann với n = 10 : 0.39194418808458\n"
     ]
    }
   ],
   "source": [
    "# Bai 5:\n",
    "# Tinh tong riemann\n",
    "def f(x):\n",
    "    return x / (1 + x**2)\n",
    "\n",
    "def riemann_sum(n,a,b,f):\n",
    "    delta_x = (a-b) / n\n",
    "    S = 0\n",
    "    for i in range(1, n + 1):\n",
    "        x_i = a + i*delta_x + delta_x/2 \n",
    "        S += f(x_i) * delta_x\n",
    "    return S\n",
    "\n",
    "# Thử với n = 10\n",
    "n = 10\n",
    "print(\"Tổng Riemann với n =\", n, \":\", riemann_sum(n,0,1,f))"
   ]
  },
  {
   "cell_type": "code",
   "execution_count": 32,
   "id": "c6d2b82c-bebc-47e5-a543-8b1d4e734f68",
   "metadata": {
    "tags": []
   },
   "outputs": [
    {
     "name": "stdout",
     "output_type": "stream",
     "text": [
      "0.34657359027997264\n"
     ]
    }
   ],
   "source": [
    "#Tinh tich phan Fx\n",
    "import math\n",
    "def F(x): \n",
    "    return (1/2)*math.log(x**2 + 1)\n",
    "a = F(1) - F(0)\n",
    "print(a)"
   ]
  },
  {
   "cell_type": "code",
   "execution_count": 40,
   "id": "c1c4c4db-83bd-46d1-85c0-985b30de3caf",
   "metadata": {
    "tags": []
   },
   "outputs": [
    {
     "name": "stdout",
     "output_type": "stream",
     "text": [
      "Lim S = Tich phan cua f(x)\n"
     ]
    }
   ],
   "source": [
    "#Tang n va so sanh\n",
    "n = 10000\n",
    "epsilon = 1e-6\n",
    "d = abs(a - riemann_sum(n))\n",
    "if d <= epsilon:\n",
    "   print(\"Lim S = Tich phan cua f(x)\")\n",
    "else: \n",
    "    print(\"khong nhan xet di\")"
   ]
  },
  {
   "cell_type": "code",
   "execution_count": null,
   "id": "3ade529f-9f46-4f5b-b874-2f184f83700a",
   "metadata": {},
   "outputs": [],
   "source": []
  }
 ],
 "metadata": {
  "kernelspec": {
   "display_name": "Python 3 (ipykernel)",
   "language": "python",
   "name": "python3"
  },
  "language_info": {
   "codemirror_mode": {
    "name": "ipython",
    "version": 3
   },
   "file_extension": ".py",
   "mimetype": "text/x-python",
   "name": "python",
   "nbconvert_exporter": "python",
   "pygments_lexer": "ipython3",
   "version": "3.11.5"
  }
 },
 "nbformat": 4,
 "nbformat_minor": 5
}
