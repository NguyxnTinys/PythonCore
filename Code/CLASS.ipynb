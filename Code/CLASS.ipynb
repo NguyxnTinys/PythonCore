{
 "cells": [
  {
   "cell_type": "code",
   "execution_count": null,
   "id": "69f23f0a-fd85-4563-be83-186307c056f0",
   "metadata": {},
   "outputs": [],
   "source": [
    "class ten:\n",
    "    dinh nghia phuong thuc\n",
    "tao doi tuong:\n",
    "    ten = tenlop([tham so])"
   ]
  },
  {
   "cell_type": "code",
   "execution_count": 15,
   "id": "3d49707b-2f64-486e-bdc9-ac081fb68148",
   "metadata": {
    "tags": []
   },
   "outputs": [],
   "source": [
    "'''\n",
    "Vi du: Dinh nghia mot class, ten msdie, mo ta con xuc xac\n",
    "'''\n",
    "from random import randint\n",
    "class MSDie():\n",
    "    def __init__(self, num, value = 1 ):\n",
    "        self.number_of_sides = num\n",
    "        self.value = value\n",
    "    def roll(self):\n",
    "        self.value = randint(1,self.number_of_sides)\n",
    "    def setvalue(self,value):\n",
    "        self.value = value\n",
    "    def getvalue(self):\n",
    "        return self.value\n",
    "    "
   ]
  },
  {
   "cell_type": "code",
   "execution_count": 16,
   "id": "35aecec6-b19f-4baf-a6d2-6f4bcddce10e",
   "metadata": {
    "tags": []
   },
   "outputs": [],
   "source": [
    "die = MSDie(6,2)"
   ]
  },
  {
   "cell_type": "code",
   "execution_count": 17,
   "id": "10950666-c2f5-4132-9134-3f2e71f609d5",
   "metadata": {
    "tags": []
   },
   "outputs": [
    {
     "data": {
      "text/plain": [
       "6"
      ]
     },
     "execution_count": 17,
     "metadata": {},
     "output_type": "execute_result"
    }
   ],
   "source": [
    "die.value\n",
    "die.number_of_sides"
   ]
  },
  {
   "cell_type": "code",
   "execution_count": 19,
   "id": "a88ce46d-f39a-42fc-a4fd-f7b7bef44cf7",
   "metadata": {
    "tags": []
   },
   "outputs": [
    {
     "name": "stdout",
     "output_type": "stream",
     "text": [
      "4\n",
      "3\n",
      "3\n",
      "1\n",
      "3\n",
      "2\n",
      "6\n",
      "2\n",
      "6\n",
      "6\n"
     ]
    }
   ],
   "source": [
    "die.roll()\n",
    "die.getvalue()\n",
    "for i in range(10):\n",
    "    die.roll()\n",
    "    print(die.getvalue())"
   ]
  },
  {
   "cell_type": "code",
   "execution_count": 29,
   "id": "8a489ae7-9c00-4b80-bc6e-ccad0e1fc46d",
   "metadata": {
    "tags": []
   },
   "outputs": [],
   "source": [
    "'''\n",
    "Vi du 2: Dinh nghia mot class, ten prj, mo ta quy dao chuyen dong cua qua bong:\n",
    "+ Thuoc tinh: xpos, ypos, xvel, yvel\n",
    "+ Phuong thuc: init(khoi tao), update( cap nhat toa do), getX, getY(lay toa do x,y)\n",
    "'''\n",
    "from math import cos, sin ,pi\n",
    "class Projectile():\n",
    "    def __init__(self, angle, velocity, height):\n",
    "        self.xpos = 0.\n",
    "        self.ypos = height\n",
    "        self.xvel = velocity*cos(angle)\n",
    "        self.yvel = velocity*sin(angle)\n",
    "    def getX(self):\n",
    "        return self.xpos\n",
    "    def getY(self):\n",
    "        return self.ypos\n",
    "    def update(self, time):\n",
    "        self.xpos += self.xvel*time\n",
    "        self.yvel =  self.yvel - 9,81*time\n",
    "        self.ypos += self.yvel*time + 1/2*9.81*time**2\n",
    "    "
   ]
  },
  {
   "cell_type": "code",
   "execution_count": 26,
   "id": "6dc11029-7259-4488-91ac-a83c78d70061",
   "metadata": {
    "tags": []
   },
   "outputs": [],
   "source": [
    "ball = Projectile(pi/6, 10, 5)"
   ]
  },
  {
   "cell_type": "code",
   "execution_count": 30,
   "id": "9f1406a2-bb7f-46b1-b028-22a954596299",
   "metadata": {
    "tags": []
   },
   "outputs": [
    {
     "data": {
      "text/plain": [
       "(-4.000000000000001, 810)"
      ]
     },
     "execution_count": 30,
     "metadata": {},
     "output_type": "execute_result"
    }
   ],
   "source": [
    "ball.xpos\n",
    "ball.ypos\n",
    "ball.xvel\n",
    "ball.yvel\n"
   ]
  },
  {
   "cell_type": "code",
   "execution_count": 32,
   "id": "7c601c49-2e65-4ccf-9fdd-acab430ca4c8",
   "metadata": {
    "tags": []
   },
   "outputs": [
    {
     "ename": "TypeError",
     "evalue": "unsupported operand type(s) for -: 'tuple' and 'int'",
     "output_type": "error",
     "traceback": [
      "\u001b[1;31m---------------------------------------------------------------------------\u001b[0m",
      "\u001b[1;31mTypeError\u001b[0m                                 Traceback (most recent call last)",
      "Cell \u001b[1;32mIn[32], line 2\u001b[0m\n\u001b[0;32m      1\u001b[0m \u001b[38;5;66;03m# Cap nhat trang thai sau 10s\u001b[39;00m\n\u001b[1;32m----> 2\u001b[0m ball\u001b[38;5;241m.\u001b[39mupdate(\u001b[38;5;241m10\u001b[39m)\n",
      "Cell \u001b[1;32mIn[25], line 19\u001b[0m, in \u001b[0;36mProjectile.update\u001b[1;34m(self, time)\u001b[0m\n\u001b[0;32m     17\u001b[0m \u001b[38;5;28;01mdef\u001b[39;00m \u001b[38;5;21mupdate\u001b[39m(\u001b[38;5;28mself\u001b[39m, time):\n\u001b[0;32m     18\u001b[0m     \u001b[38;5;28mself\u001b[39m\u001b[38;5;241m.\u001b[39mxpos \u001b[38;5;241m=\u001b[39m \u001b[38;5;28mself\u001b[39m\u001b[38;5;241m.\u001b[39mxvel\u001b[38;5;241m*\u001b[39mtime\n\u001b[1;32m---> 19\u001b[0m     \u001b[38;5;28mself\u001b[39m\u001b[38;5;241m.\u001b[39myvel \u001b[38;5;241m=\u001b[39m  \u001b[38;5;28mself\u001b[39m\u001b[38;5;241m.\u001b[39myvel \u001b[38;5;241m-\u001b[39m \u001b[38;5;241m9\u001b[39m,\u001b[38;5;241m81\u001b[39m\u001b[38;5;241m*\u001b[39mtime\n\u001b[0;32m     20\u001b[0m     \u001b[38;5;28mself\u001b[39m\u001b[38;5;241m.\u001b[39mypos \u001b[38;5;241m=\u001b[39m \u001b[38;5;28mself\u001b[39m\u001b[38;5;241m.\u001b[39myvel\u001b[38;5;241m*\u001b[39mtime \u001b[38;5;241m+\u001b[39m \u001b[38;5;241m1\u001b[39m\u001b[38;5;241m/\u001b[39m\u001b[38;5;241m2\u001b[39m\u001b[38;5;241m*\u001b[39m\u001b[38;5;241m9.81\u001b[39m\u001b[38;5;241m*\u001b[39mtime\u001b[38;5;241m*\u001b[39m\u001b[38;5;241m*\u001b[39m\u001b[38;5;241m2\u001b[39m\n",
      "\u001b[1;31mTypeError\u001b[0m: unsupported operand type(s) for -: 'tuple' and 'int'"
     ]
    }
   ],
   "source": [
    "# Cap nhat trang thai sau 10s\n",
    "ball.update(10)"
   ]
  },
  {
   "cell_type": "code",
   "execution_count": 43,
   "id": "20e5ec95-5ead-459f-9245-54c693f07f9d",
   "metadata": {
    "tags": []
   },
   "outputs": [],
   "source": [
    "class student():\n",
    "    def __init__(self, name, credits, points):\n",
    "        self.name = name\n",
    "        self.credits = credits\n",
    "        self.points = points\n",
    "        \n",
    "    def info():\n",
    "        return sefl.name, sefl.credits, self.points\n",
    "    \n",
    "    def gpa():\n",
    "        return self.points/self.credits"
   ]
  },
  {
   "cell_type": "code",
   "execution_count": 45,
   "id": "df6aa06b-6be5-4766-b960-95b2678fd8db",
   "metadata": {
    "tags": []
   },
   "outputs": [
    {
     "name": "stdin",
     "output_type": "stream",
     "text": [
      "Nhap ten sinh vien hao\n",
      "Nhap tin chi 1100\n",
      "Tong diem 10101\n",
      "Nhap ten sinh vien haiaj\n",
      "Nhap tin chi 111\n",
      "Tong diem 11\n",
      "Nhap ten sinh vien \n"
     ]
    },
    {
     "name": "stdout",
     "output_type": "stream",
     "text": [
      "[<__main__.student object at 0x000001BE7977E590>, <__main__.student object at 0x000001BE7977F150>]\n"
     ]
    }
   ],
   "source": [
    "#Nhap du lieu\n",
    "students= []\n",
    "while True:\n",
    "    name = input('Nhap ten sinh vien')\n",
    "    if name =='':break\n",
    "    credits = int(input('Nhap tin chi'))\n",
    "    points = float(input('Tong diem'))\n",
    "    students.append(student(name,credits,points))\n",
    "print(students)"
   ]
  },
  {
   "cell_type": "code",
   "execution_count": null,
   "id": "bca589b4-01ff-4aa3-8a28-bb3ca79d39f8",
   "metadata": {},
   "outputs": [],
   "source": []
  }
 ],
 "metadata": {
  "kernelspec": {
   "display_name": "Python 3 (ipykernel)",
   "language": "python",
   "name": "python3"
  },
  "language_info": {
   "codemirror_mode": {
    "name": "ipython",
    "version": 3
   },
   "file_extension": ".py",
   "mimetype": "text/x-python",
   "name": "python",
   "nbconvert_exporter": "python",
   "pygments_lexer": "ipython3",
   "version": "3.11.5"
  }
 },
 "nbformat": 4,
 "nbformat_minor": 5
}
